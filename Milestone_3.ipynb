{
 "cells": [
  {
   "cell_type": "code",
   "execution_count": 275,
   "metadata": {
    "scrolled": true
   },
   "outputs": [],
   "source": [
    "#import\n",
    "import warnings\n",
    "warnings.filterwarnings(\"ignore\", category=Warning)\n",
    "import bz2\n",
    "import json\n",
    "import pandas as pd\n",
    "import numpy as np\n",
    "import seaborn as sns\n",
    "import matplotlib.pyplot as plt\n",
    "import scipy.stats as stats\n",
    "import nltk\n",
    "from nltk.sentiment.vader import SentimentIntensityAnalyzer\n",
    "from tqdm import tqdm\n",
    "import re\n",
    "import gc\n",
    "# nltk.download('vader_lexicon')"
   ]
  },
  {
   "cell_type": "markdown",
   "metadata": {},
   "source": [
    "# Task 1: The real impact of American political efforts on their actual emissions, and how it is correlated"
   ]
  },
  {
   "cell_type": "markdown",
   "metadata": {},
   "source": [
    "## Task 1.1 How much did American politicians care about global warming"
   ]
  },
  {
   "cell_type": "markdown",
   "metadata": {},
   "source": [
    "### We need to retrieve quotations related to climate. Firstly we perform a demo using the first 1,000,000 quotations in 2013, in order to create our list of keywords for retrieval."
   ]
  },
  {
   "cell_type": "code",
   "execution_count": 2,
   "metadata": {},
   "outputs": [],
   "source": [
    "# load data\n",
    "def load_quotebank(path_to_file, chunksize=5*1e6, samplesize=5*1e6) -> pd.DataFrame:\n",
    "    \"\"\"Load the first 10000 quotations of each year from quotebank dataset\n",
    "    \"\"\"\n",
    "    data_quotebank = pd.DataFrame()\n",
    "    cnt = 0\n",
    "    numbatch = samplesize // chunksize\n",
    "    for chunk in pd.read_json(path_to_file, lines=True, chunksize=chunksize):\n",
    "        data_quotebank = data_quotebank.append(chunk)\n",
    "        cnt = cnt + 1\n",
    "        if cnt == numbatch:\n",
    "            break\n",
    "    return data_quotebank"
   ]
  },
  {
   "cell_type": "code",
   "execution_count": 3,
   "metadata": {},
   "outputs": [],
   "source": [
    "quotes_2013 = load_quotebank('./quotes-2013.json.bz2')"
   ]
  },
  {
   "cell_type": "code",
   "execution_count": 2,
   "metadata": {},
   "outputs": [],
   "source": [
    "# clean data\n",
    "def clean_quotebank(data_quotebank) -> pd.DataFrame:\n",
    "    \"\"\"Clean quotebank dataset\n",
    "    \"\"\"\n",
    "    # Get the columns we need\n",
    "    data_quotebank = data_quotebank[['quoteID', 'quotation', 'date', 'numOccurrences', 'speaker', 'qids']].copy()\n",
    "    # Remove the time in date\n",
    "    data_quotebank.loc[:, 'date'] = data_quotebank['date'].astype('str')\n",
    "    data_quotebank.loc[:, 'date'] = data_quotebank['date'].apply(lambda x: re.compile(r'\\d{4}-\\d{2}-\\d{2}').findall(x)[0])\n",
    "    # Remove data with unknown speakers\n",
    "    data_quotebank.loc[data_quotebank['speaker'] == 'None', 'speaker'] = None\n",
    "    data_quotebank.loc[data_quotebank['speaker'].isna(), 'qids'] = None\n",
    "    # Remove redundant qids\n",
    "    def get_first_qid(qids):\n",
    "        try:\n",
    "            return qids[0]\n",
    "        except:\n",
    "            return None\n",
    "    # data_quotebank.loc[:, 'qids'] = pd.Series([sample[0] for sample in data_quotebank.qids])\n",
    "    data_quotebank.loc[:, 'qids'] = data_quotebank['qids'].apply(get_first_qid)\n",
    "    # data_quotebank_cleaned = data_quotebank\n",
    "    data_quotebank = data_quotebank.rename(columns={'qids': 'id'})\n",
    "    return data_quotebank"
   ]
  },
  {
   "cell_type": "code",
   "execution_count": 5,
   "metadata": {},
   "outputs": [],
   "source": [
    "quotes_2013 = clean_quotebank(quotes_2013)"
   ]
  },
  {
   "cell_type": "markdown",
   "metadata": {},
   "source": [
    "Some insights on **how we decided the targeted keywords** for our topic: global warming\n",
    "\n",
    "- We firstly use google to search \"words related to global warming\" and got words like \"carbon dioxide\", \"methane\", \"greenhouse\", \"renewable energy\", \"UNFCCC\", \"IPCC\", \"average temperature\", \"biodiversity\", \"electric vehicle\", \"Paris Agreement\" and \"sea level\"\n",
    "- We also added the keywords we came up with, such as \"global warming\", \"climate\" and \"environment\"\n",
    "- After the related quotations have been retrieved, we check on the original quotations and extract the words that usually occur with our targeted words at the same time, for example, \"emission\", \"environmental\",\"air pollutants\". We also checked the precision of the results and found that some words can occur in other non-related context, for example, a quotation containing the word \"environment\" can be \"I grew up in an environment in which everybody was doing something with their hands.\", which has nothing to do with global warming. In this case, we changed the keyword \"environment\" into \"environmental\" to increase the precision.\n",
    "- To get higher recall, we 1) search for \"climate\" instead of \"climate change\"; 2) use different expression for same word, such as carbon dioxide and CO2; 3) ignore capital letters"
   ]
  },
  {
   "cell_type": "code",
   "execution_count": 3,
   "metadata": {},
   "outputs": [],
   "source": [
    "regex = \"climate|emission|carbon dioxide|CO2|greenhouse|global warming|renewable energy|clean energy| \\\n",
    "         environmental|UNFCCC|IPCC|methane|average temperature|biodiversity|electric vehicle|air pollutants| \\\n",
    "         Paris Agreement|sea level\"\n",
    "def is_climate(x):\n",
    "    keyword_list = re.findall(regex,x,re.IGNORECASE)\n",
    "    if keyword_list:\n",
    "        return keyword_list\n",
    "    else:\n",
    "        return False"
   ]
  },
  {
   "cell_type": "code",
   "execution_count": null,
   "metadata": {},
   "outputs": [],
   "source": [
    "quotes_2013['is_climate'] = quotes_2013['quotation'].apply(is_climate)"
   ]
  },
  {
   "cell_type": "code",
   "execution_count": 7,
   "metadata": {},
   "outputs": [],
   "source": [
    "quotes_2013_target = quotes_2013[~(quotes_2013['is_climate'] == False)]"
   ]
  },
  {
   "cell_type": "code",
   "execution_count": 8,
   "metadata": {},
   "outputs": [
    {
     "data": {
      "text/html": [
       "<div>\n",
       "<style scoped>\n",
       "    .dataframe tbody tr th:only-of-type {\n",
       "        vertical-align: middle;\n",
       "    }\n",
       "\n",
       "    .dataframe tbody tr th {\n",
       "        vertical-align: top;\n",
       "    }\n",
       "\n",
       "    .dataframe thead th {\n",
       "        text-align: right;\n",
       "    }\n",
       "</style>\n",
       "<table border=\"1\" class=\"dataframe\">\n",
       "  <thead>\n",
       "    <tr style=\"text-align: right;\">\n",
       "      <th></th>\n",
       "      <th>quoteID</th>\n",
       "      <th>quotation</th>\n",
       "      <th>date</th>\n",
       "      <th>numOccurrences</th>\n",
       "      <th>speaker</th>\n",
       "      <th>id</th>\n",
       "      <th>is_climate</th>\n",
       "    </tr>\n",
       "  </thead>\n",
       "  <tbody>\n",
       "    <tr>\n",
       "      <th>292</th>\n",
       "      <td>2013-05-30-003101</td>\n",
       "      <td>Alternatively, in the case of a cap and trade ...</td>\n",
       "      <td>2013-05-30</td>\n",
       "      <td>1</td>\n",
       "      <td>None</td>\n",
       "      <td>None</td>\n",
       "      <td>[emission, emission]</td>\n",
       "    </tr>\n",
       "    <tr>\n",
       "      <th>501</th>\n",
       "      <td>2013-01-22-004752</td>\n",
       "      <td>as a first step, we use global general circula...</td>\n",
       "      <td>2013-01-22</td>\n",
       "      <td>7</td>\n",
       "      <td>bin wang</td>\n",
       "      <td>Q22103137</td>\n",
       "      <td>[climate]</td>\n",
       "    </tr>\n",
       "    <tr>\n",
       "      <th>663</th>\n",
       "      <td>2013-06-20-006940</td>\n",
       "      <td>because of the Tea Party, Global Warming will ...</td>\n",
       "      <td>2013-06-20</td>\n",
       "      <td>2</td>\n",
       "      <td>Al Gore</td>\n",
       "      <td>Q19673</td>\n",
       "      <td>[Global Warming]</td>\n",
       "    </tr>\n",
       "    <tr>\n",
       "      <th>1055</th>\n",
       "      <td>2013-08-21-010630</td>\n",
       "      <td>Coral reefs have had a hard time adjusting eve...</td>\n",
       "      <td>2013-08-21</td>\n",
       "      <td>1</td>\n",
       "      <td>Ove Hoegh-Guldberg</td>\n",
       "      <td>Q7113303</td>\n",
       "      <td>[carbon dioxide]</td>\n",
       "    </tr>\n",
       "    <tr>\n",
       "      <th>1272</th>\n",
       "      <td>2013-12-05-015837</td>\n",
       "      <td>Everybody lists the negative part of global wa...</td>\n",
       "      <td>2013-12-05</td>\n",
       "      <td>1</td>\n",
       "      <td>Gov. Paul LePage</td>\n",
       "      <td>Q881196</td>\n",
       "      <td>[global warming]</td>\n",
       "    </tr>\n",
       "  </tbody>\n",
       "</table>\n",
       "</div>"
      ],
      "text/plain": [
       "                quoteID                                          quotation  \\\n",
       "292   2013-05-30-003101  Alternatively, in the case of a cap and trade ...   \n",
       "501   2013-01-22-004752  as a first step, we use global general circula...   \n",
       "663   2013-06-20-006940  because of the Tea Party, Global Warming will ...   \n",
       "1055  2013-08-21-010630  Coral reefs have had a hard time adjusting eve...   \n",
       "1272  2013-12-05-015837  Everybody lists the negative part of global wa...   \n",
       "\n",
       "            date  numOccurrences             speaker         id  \\\n",
       "292   2013-05-30               1                None       None   \n",
       "501   2013-01-22               7            bin wang  Q22103137   \n",
       "663   2013-06-20               2             Al Gore     Q19673   \n",
       "1055  2013-08-21               1  Ove Hoegh-Guldberg   Q7113303   \n",
       "1272  2013-12-05               1    Gov. Paul LePage    Q881196   \n",
       "\n",
       "                is_climate  \n",
       "292   [emission, emission]  \n",
       "501              [climate]  \n",
       "663       [Global Warming]  \n",
       "1055      [carbon dioxide]  \n",
       "1272      [global warming]  "
      ]
     },
     "execution_count": 8,
     "metadata": {},
     "output_type": "execute_result"
    }
   ],
   "source": [
    "quotes_2013_target.head()"
   ]
  },
  {
   "cell_type": "code",
   "execution_count": 9,
   "metadata": {},
   "outputs": [
    {
     "data": {
      "text/plain": [
       "14155"
      ]
     },
     "execution_count": 9,
     "metadata": {},
     "output_type": "execute_result"
    }
   ],
   "source": [
    "len(quotes_2013_target)"
   ]
  },
  {
   "cell_type": "code",
   "execution_count": 10,
   "metadata": {},
   "outputs": [
    {
     "name": "stdout",
     "output_type": "stream",
     "text": [
      "the proportion of quotations that are related to climate is 0.283%\n"
     ]
    }
   ],
   "source": [
    "print(\"the proportion of quotations that are related to climate is %.3f%%\" % (len(quotes_2013_target) / len(quotes_2013)*100))"
   ]
  },
  {
   "cell_type": "markdown",
   "metadata": {},
   "source": [
    "how many keywords are there in each quotation?"
   ]
  },
  {
   "cell_type": "code",
   "execution_count": 11,
   "metadata": {},
   "outputs": [
    {
     "name": "stderr",
     "output_type": "stream",
     "text": [
      "/home/anaconda/lib/python3.7/site-packages/ipykernel_launcher.py:1: SettingWithCopyWarning: \n",
      "A value is trying to be set on a copy of a slice from a DataFrame.\n",
      "Try using .loc[row_indexer,col_indexer] = value instead\n",
      "\n",
      "See the caveats in the documentation: http://pandas.pydata.org/pandas-docs/stable/indexing.html#indexing-view-versus-copy\n",
      "  \"\"\"Entry point for launching an IPython kernel.\n"
     ]
    },
    {
     "data": {
      "text/plain": [
       "Text(0, 0.5, 'number of quotations')"
      ]
     },
     "execution_count": 11,
     "metadata": {},
     "output_type": "execute_result"
    },
    {
     "data": {
      "image/png": "[encoded data removed]",
      "text/plain": [
       "<Figure size 432x288 with 1 Axes>"
      ]
     },
     "metadata": {
      "needs_background": "light"
     },
     "output_type": "display_data"
    }
   ],
   "source": [
    "quotes_2013_target['keywords_num'] = quotes_2013_target['is_climate'].apply(lambda x: len(x))\n",
    "quotes_2013_target['keywords_num'].hist()\n",
    "plt.title('number of keywords found in each quotation')\n",
    "plt.xlabel('number of keywords')\n",
    "plt.ylabel('number of quotations')"
   ]
  },
  {
   "cell_type": "markdown",
   "metadata": {},
   "source": [
    "most of the retrieved quotations contain only 1 keyword"
   ]
  },
  {
   "cell_type": "markdown",
   "metadata": {},
   "source": [
    "how frequent does a keyword occur?"
   ]
  },
  {
   "cell_type": "code",
   "execution_count": 12,
   "metadata": {},
   "outputs": [
    {
     "data": {
      "text/plain": [
       "Text(0.5, 1.0, 'frequency of keywords')"
      ]
     },
     "execution_count": 12,
     "metadata": {},
     "output_type": "execute_result"
    },
    {
     "data": {
      "image/png": "[encoded data removed]",
      "text/plain": [
       "<Figure size 504x360 with 1 Axes>"
      ]
     },
     "metadata": {
      "needs_background": "light"
     },
     "output_type": "display_data"
    }
   ],
   "source": [
    "total_key_words = quotes_2013_target['is_climate'].sum()\n",
    "plt.figure(figsize=(7,5))\n",
    "sns.countplot(x=total_key_words)\n",
    "plt.xticks(rotation=90)\n",
    "plt.title(\"frequency of keywords\")"
   ]
  },
  {
   "cell_type": "markdown",
   "metadata": {},
   "source": [
    "the keyword \"climate\" occures most often,followed by \"emission\" and \"renewable energy\". We checked the retrieved quotations and most of them are topic-related, which implies satisfying precision. "
   ]
  },
  {
   "cell_type": "markdown",
   "metadata": {},
   "source": [
    "### We have decided the keywords list and now we can begin to work on the whole dataset"
   ]
  },
  {
   "cell_type": "code",
   "execution_count": 13,
   "metadata": {},
   "outputs": [
    {
     "data": {
      "text/plain": [
       "27"
      ]
     },
     "execution_count": 13,
     "metadata": {},
     "output_type": "execute_result"
    }
   ],
   "source": [
    "# clear memory\n",
    "del quotes_2013, quotes_2013_target\n",
    "gc.collect()"
   ]
  },
  {
   "cell_type": "code",
   "execution_count": 4,
   "metadata": {},
   "outputs": [],
   "source": [
    "# import data loading function\n",
    "from DataLoader import DataLoader\n",
    "def load_data(path,chunksize=1e6):\n",
    "    dl = DataLoader(path, chunksize=chunksize)\n",
    "    df = dl.load()\n",
    "    return df"
   ]
  },
  {
   "cell_type": "code",
   "execution_count": 5,
   "metadata": {},
   "outputs": [],
   "source": [
    "# retrieval function\n",
    "def quo_retrvl(dataframe):\n",
    "    dataframe['is_climate'] = dataframe['quotation'].apply(is_climate)\n",
    "    target = dataframe[~(dataframe['is_climate'] == False)]\n",
    "    return target"
   ]
  },
  {
   "cell_type": "code",
   "execution_count": 6,
   "metadata": {},
   "outputs": [
    {
     "name": "stdout",
     "output_type": "stream",
     "text": [
      "Chunk 1 Finished! Time: 72.231s\n",
      "Chunk 2 Finished! Time: 67.339s\n",
      "Chunk 3 Finished! Time: 72.035s\n",
      "Chunk 4 Finished! Time: 80.966s\n",
      "Chunk 5 Finished! Time: 75.170s\n",
      "Chunk 6 Finished! Time: 17.510s\n",
      "2020 is done!\n",
      "Memory has been cleared!\n"
     ]
    }
   ],
   "source": [
    "# loop for all years\n",
    "years = np.arange(2008,2021)\n",
    "for year in years:\n",
    "    quotes = load_data('quotes-'+str(year)+'.json.bz2')\n",
    "    quotes = clean_quotebank(quotes)\n",
    "    quotes_target = quo_retrvl(quotes)\n",
    "    quotes_target.to_pickle('retrieved-'+str(year)+'.pkl')\n",
    "    org_length = quotes.shape[0]\n",
    "    tgt_length = quotes_target.shape[0]\n",
    "    with open('len_record.txt','a',encoding='utf-8') as f:\n",
    "        f.write('%d,%d,%d\\n'%(year,org_length,tgt_length))\n",
    "        f.close()\n",
    "    print('%d is done!' % year)\n",
    "    del quotes, quotes_target\n",
    "    gc.collect()\n",
    "    print('Memory has been cleared!')\n"
   ]
  },
  {
   "cell_type": "markdown",
   "metadata": {},
   "source": [
    "### Calculating *Political Attention Value*"
   ]
  },
  {
   "cell_type": "markdown",
   "metadata": {},
   "source": [
    "Assuming that the propotion of climate-related topic occurrence in English news articles each year is related with the politicians' attention to it. We will calculate the **proportion** of occurrences of the quotations related to climate change issues every year from 2008 to 2020."
   ]
  },
  {
   "cell_type": "code",
   "execution_count": 1,
   "metadata": {},
   "outputs": [],
   "source": [
    "import matplotlib.pyplot as plt\n",
    "import numpy as np\n",
    "import pandas as pd\n",
    "import seaborn as sns"
   ]
  },
  {
   "cell_type": "code",
   "execution_count": 2,
   "metadata": {},
   "outputs": [
    {
     "data": {
      "text/html": [
       "<div>\n",
       "<style scoped>\n",
       "    .dataframe tbody tr th:only-of-type {\n",
       "        vertical-align: middle;\n",
       "    }\n",
       "\n",
       "    .dataframe tbody tr th {\n",
       "        vertical-align: top;\n",
       "    }\n",
       "\n",
       "    .dataframe thead th {\n",
       "        text-align: right;\n",
       "    }\n",
       "</style>\n",
       "<table border=\"1\" class=\"dataframe\">\n",
       "  <thead>\n",
       "    <tr style=\"text-align: right;\">\n",
       "      <th></th>\n",
       "      <th>year</th>\n",
       "      <th>quo_all</th>\n",
       "      <th>quo_climate</th>\n",
       "      <th>poli_atten_val</th>\n",
       "    </tr>\n",
       "  </thead>\n",
       "  <tbody>\n",
       "    <tr>\n",
       "      <th>0</th>\n",
       "      <td>2008</td>\n",
       "      <td>4641330</td>\n",
       "      <td>17511</td>\n",
       "      <td>0.003773</td>\n",
       "    </tr>\n",
       "    <tr>\n",
       "      <th>1</th>\n",
       "      <td>2009</td>\n",
       "      <td>19567082</td>\n",
       "      <td>89447</td>\n",
       "      <td>0.004571</td>\n",
       "    </tr>\n",
       "    <tr>\n",
       "      <th>2</th>\n",
       "      <td>2010</td>\n",
       "      <td>17208434</td>\n",
       "      <td>59172</td>\n",
       "      <td>0.003439</td>\n",
       "    </tr>\n",
       "    <tr>\n",
       "      <th>3</th>\n",
       "      <td>2011</td>\n",
       "      <td>19632724</td>\n",
       "      <td>57811</td>\n",
       "      <td>0.002945</td>\n",
       "    </tr>\n",
       "    <tr>\n",
       "      <th>4</th>\n",
       "      <td>2012</td>\n",
       "      <td>19849872</td>\n",
       "      <td>50963</td>\n",
       "      <td>0.002567</td>\n",
       "    </tr>\n",
       "    <tr>\n",
       "      <th>5</th>\n",
       "      <td>2013</td>\n",
       "      <td>18614447</td>\n",
       "      <td>53052</td>\n",
       "      <td>0.002850</td>\n",
       "    </tr>\n",
       "    <tr>\n",
       "      <th>6</th>\n",
       "      <td>2014</td>\n",
       "      <td>19896843</td>\n",
       "      <td>62901</td>\n",
       "      <td>0.003161</td>\n",
       "    </tr>\n",
       "    <tr>\n",
       "      <th>7</th>\n",
       "      <td>2015</td>\n",
       "      <td>20874338</td>\n",
       "      <td>80053</td>\n",
       "      <td>0.003835</td>\n",
       "    </tr>\n",
       "    <tr>\n",
       "      <th>8</th>\n",
       "      <td>2016</td>\n",
       "      <td>13862129</td>\n",
       "      <td>44406</td>\n",
       "      <td>0.003203</td>\n",
       "    </tr>\n",
       "    <tr>\n",
       "      <th>9</th>\n",
       "      <td>2019</td>\n",
       "      <td>21763302</td>\n",
       "      <td>124051</td>\n",
       "      <td>0.005700</td>\n",
       "    </tr>\n",
       "    <tr>\n",
       "      <th>10</th>\n",
       "      <td>2020</td>\n",
       "      <td>5244449</td>\n",
       "      <td>27754</td>\n",
       "      <td>0.005292</td>\n",
       "    </tr>\n",
       "  </tbody>\n",
       "</table>\n",
       "</div>"
      ],
      "text/plain": [
       "    year   quo_all  quo_climate  poli_atten_val\n",
       "0   2008   4641330        17511        0.003773\n",
       "1   2009  19567082        89447        0.004571\n",
       "2   2010  17208434        59172        0.003439\n",
       "3   2011  19632724        57811        0.002945\n",
       "4   2012  19849872        50963        0.002567\n",
       "5   2013  18614447        53052        0.002850\n",
       "6   2014  19896843        62901        0.003161\n",
       "7   2015  20874338        80053        0.003835\n",
       "8   2016  13862129        44406        0.003203\n",
       "9   2019  21763302       124051        0.005700\n",
       "10  2020   5244449        27754        0.005292"
      ]
     },
     "execution_count": 2,
     "metadata": {},
     "output_type": "execute_result"
    }
   ],
   "source": [
    "#Compute political attention value for each year\n",
    "quo_len = pd.read_csv('Retrieved/len_record.txt', sep=',',header=None)\n",
    "quo_len.columns = ['year','quo_all','quo_climate']\n",
    "quo_len['poli_atten_val'] = quo_len['quo_climate'] / quo_len['quo_all']\n",
    "quo_len"
   ]
  },
  {
   "cell_type": "code",
   "execution_count": 3,
   "metadata": {},
   "outputs": [],
   "source": [
    "# results of 2017 and 2018 are stored seperately due to the large size of dataset\n",
    "# now we combine them with other years\n",
    "quo_len_2017 = pd.read_csv('Retrieved/len_record_2017.txt', sep=',',header=None)\n",
    "quo_len_2017.columns = ['year','quo_all','quo_climate']\n",
    "quo_all = quo_len_2017['quo_all'].sum()\n",
    "quo_climate = quo_len_2017['quo_climate'].sum()\n",
    "quo_len = quo_len.append({'year':2017,'quo_all':quo_all,'quo_climate':quo_climate,'poli_atten_val':quo_climate/quo_all}, ignore_index=True)\n",
    "\n",
    "quo_len_2018 = pd.read_csv('Retrieved/len_record_2018.txt', sep=',',header=None)\n",
    "quo_len_2018.columns = ['year','quo_all','quo_climate']\n",
    "quo_all = quo_len_2018['quo_all'].sum()\n",
    "quo_climate = quo_len_2018['quo_climate'].sum()\n",
    "quo_len = quo_len.append({'year':2018,'quo_all':quo_all,'quo_climate':quo_climate,'poli_atten_val':quo_climate/quo_all}, ignore_index=True)"
   ]
  },
  {
   "cell_type": "code",
   "execution_count": 4,
   "metadata": {},
   "outputs": [],
   "source": [
    "quo_len['year'] = quo_len['year'].astype(\"int\")\n",
    "quo_len['poli_atten_val'] = quo_len['poli_atten_val']*100\n",
    "quo_len = quo_len.sort_values('year')"
   ]
  },
  {
   "cell_type": "code",
   "execution_count": 5,
   "metadata": {},
   "outputs": [],
   "source": [
    "# save it to file\n",
    "poli_atten_val = quo_len[['year','poli_atten_val']]\n",
    "poli_atten_val.to_csv('poli_atten_val.csv')"
   ]
  },
  {
   "cell_type": "code",
   "execution_count": 6,
   "metadata": {},
   "outputs": [
    {
     "data": {
      "text/html": [
       "<div>\n",
       "<style scoped>\n",
       "    .dataframe tbody tr th:only-of-type {\n",
       "        vertical-align: middle;\n",
       "    }\n",
       "\n",
       "    .dataframe tbody tr th {\n",
       "        vertical-align: top;\n",
       "    }\n",
       "\n",
       "    .dataframe thead th {\n",
       "        text-align: right;\n",
       "    }\n",
       "</style>\n",
       "<table border=\"1\" class=\"dataframe\">\n",
       "  <thead>\n",
       "    <tr style=\"text-align: right;\">\n",
       "      <th></th>\n",
       "      <th>year</th>\n",
       "      <th>quo_all</th>\n",
       "      <th>quo_climate</th>\n",
       "      <th>poli_atten_val</th>\n",
       "    </tr>\n",
       "  </thead>\n",
       "  <tbody>\n",
       "    <tr>\n",
       "      <th>0</th>\n",
       "      <td>2008</td>\n",
       "      <td>4641330.0</td>\n",
       "      <td>17511.0</td>\n",
       "      <td>0.377284</td>\n",
       "    </tr>\n",
       "    <tr>\n",
       "      <th>1</th>\n",
       "      <td>2009</td>\n",
       "      <td>19567082.0</td>\n",
       "      <td>89447.0</td>\n",
       "      <td>0.457130</td>\n",
       "    </tr>\n",
       "    <tr>\n",
       "      <th>2</th>\n",
       "      <td>2010</td>\n",
       "      <td>17208434.0</td>\n",
       "      <td>59172.0</td>\n",
       "      <td>0.343855</td>\n",
       "    </tr>\n",
       "    <tr>\n",
       "      <th>3</th>\n",
       "      <td>2011</td>\n",
       "      <td>19632724.0</td>\n",
       "      <td>57811.0</td>\n",
       "      <td>0.294462</td>\n",
       "    </tr>\n",
       "    <tr>\n",
       "      <th>4</th>\n",
       "      <td>2012</td>\n",
       "      <td>19849872.0</td>\n",
       "      <td>50963.0</td>\n",
       "      <td>0.256742</td>\n",
       "    </tr>\n",
       "    <tr>\n",
       "      <th>5</th>\n",
       "      <td>2013</td>\n",
       "      <td>18614447.0</td>\n",
       "      <td>53052.0</td>\n",
       "      <td>0.285004</td>\n",
       "    </tr>\n",
       "    <tr>\n",
       "      <th>6</th>\n",
       "      <td>2014</td>\n",
       "      <td>19896843.0</td>\n",
       "      <td>62901.0</td>\n",
       "      <td>0.316136</td>\n",
       "    </tr>\n",
       "    <tr>\n",
       "      <th>7</th>\n",
       "      <td>2015</td>\n",
       "      <td>20874338.0</td>\n",
       "      <td>80053.0</td>\n",
       "      <td>0.383500</td>\n",
       "    </tr>\n",
       "    <tr>\n",
       "      <th>8</th>\n",
       "      <td>2016</td>\n",
       "      <td>13862129.0</td>\n",
       "      <td>44406.0</td>\n",
       "      <td>0.320340</td>\n",
       "    </tr>\n",
       "    <tr>\n",
       "      <th>11</th>\n",
       "      <td>2017</td>\n",
       "      <td>26611588.0</td>\n",
       "      <td>93541.0</td>\n",
       "      <td>0.351505</td>\n",
       "    </tr>\n",
       "    <tr>\n",
       "      <th>12</th>\n",
       "      <td>2018</td>\n",
       "      <td>27228451.0</td>\n",
       "      <td>92480.0</td>\n",
       "      <td>0.339645</td>\n",
       "    </tr>\n",
       "    <tr>\n",
       "      <th>9</th>\n",
       "      <td>2019</td>\n",
       "      <td>21763302.0</td>\n",
       "      <td>124051.0</td>\n",
       "      <td>0.570001</td>\n",
       "    </tr>\n",
       "    <tr>\n",
       "      <th>10</th>\n",
       "      <td>2020</td>\n",
       "      <td>5244449.0</td>\n",
       "      <td>27754.0</td>\n",
       "      <td>0.529207</td>\n",
       "    </tr>\n",
       "  </tbody>\n",
       "</table>\n",
       "</div>"
      ],
      "text/plain": [
       "    year     quo_all  quo_climate  poli_atten_val\n",
       "0   2008   4641330.0      17511.0        0.377284\n",
       "1   2009  19567082.0      89447.0        0.457130\n",
       "2   2010  17208434.0      59172.0        0.343855\n",
       "3   2011  19632724.0      57811.0        0.294462\n",
       "4   2012  19849872.0      50963.0        0.256742\n",
       "5   2013  18614447.0      53052.0        0.285004\n",
       "6   2014  19896843.0      62901.0        0.316136\n",
       "7   2015  20874338.0      80053.0        0.383500\n",
       "8   2016  13862129.0      44406.0        0.320340\n",
       "11  2017  26611588.0      93541.0        0.351505\n",
       "12  2018  27228451.0      92480.0        0.339645\n",
       "9   2019  21763302.0     124051.0        0.570001\n",
       "10  2020   5244449.0      27754.0        0.529207"
      ]
     },
     "execution_count": 6,
     "metadata": {},
     "output_type": "execute_result"
    }
   ],
   "source": [
    "quo_len"
   ]
  },
  {
   "cell_type": "markdown",
   "metadata": {},
   "source": [
    "check out total number of quotations each year in the given dataset"
   ]
  },
  {
   "cell_type": "code",
   "execution_count": 7,
   "metadata": {},
   "outputs": [
    {
     "data": {
      "text/plain": [
       "Text(0, 0.5, 'Number of quotations')"
      ]
     },
     "execution_count": 7,
     "metadata": {},
     "output_type": "execute_result"
    },
    {
     "data": {
      "image/png": "[encoded data removed]",
      "text/plain": [
       "<Figure size 432x288 with 1 Axes>"
      ]
     },
     "metadata": {
      "needs_background": "light"
     },
     "output_type": "display_data"
    }
   ],
   "source": [
    "sns.barplot(x='year', y=\"quo_all\", data=quo_len)\n",
    "plt.title('Number of total quotations each year')\n",
    "plt.ylabel('Number of quotations')"
   ]
  },
  {
   "cell_type": "markdown",
   "metadata": {},
   "source": [
    "The average data size is around 20 million. In 2008 and 2020, the data size is much smaller, with around 5 million quotations."
   ]
  },
  {
   "cell_type": "markdown",
   "metadata": {},
   "source": [
    "check out number of retrieved climate-related quotations each year"
   ]
  },
  {
   "cell_type": "code",
   "execution_count": 8,
   "metadata": {},
   "outputs": [
    {
     "data": {
      "text/plain": [
       "Text(0, 0.5, 'Number of quotations')"
      ]
     },
     "execution_count": 8,
     "metadata": {},
     "output_type": "execute_result"
    },
    {
     "data": {
      "image/png": "[encoded data removed]",
      "text/plain": [
       "<Figure size 432x288 with 1 Axes>"
      ]
     },
     "metadata": {
      "needs_background": "light"
     },
     "output_type": "display_data"
    }
   ],
   "source": [
    "sns.barplot(x='year', y=\"quo_climate\", data=quo_len)\n",
    "plt.title('Number of climate-related quotations each year')\n",
    "plt.ylabel('Number of quotations')"
   ]
  },
  {
   "cell_type": "markdown",
   "metadata": {},
   "source": [
    "The number of climate-related quotations is much less, with an average of about 60,000. Unsurprisingly, the number is still small in 2008 and 2020."
   ]
  },
  {
   "cell_type": "code",
   "execution_count": 9,
   "metadata": {},
   "outputs": [
    {
     "data": {
      "text/plain": [
       "Text(0, 0.5, 'political attention value (%)')"
      ]
     },
     "execution_count": 9,
     "metadata": {},
     "output_type": "execute_result"
    },
    {
     "data": {
      "image/png": "[encoded data removed]",
      "text/plain": [
       "<Figure size 720x288 with 1 Axes>"
      ]
     },
     "metadata": {
      "needs_background": "light"
     },
     "output_type": "display_data"
    }
   ],
   "source": [
    "# plot the trend of political attention value\n",
    "fig = plt.figure(figsize=(10,4))\n",
    "plt.plot(quo_len.year,quo_len.poli_atten_val,linewidth=2,color ='steelblue',marker='o',markersize=5)\n",
    "plt.title('Political attention value from 2008 to 2020')\n",
    "plt.xlabel('year')\n",
    "plt.xticks(np.arange(2008,2021))\n",
    "plt.ylabel('political attention value (%)')"
   ]
  },
  {
   "cell_type": "markdown",
   "metadata": {},
   "source": [
    "Strating with a relatively high attention for climate issue from american politics in 2008,the value firstly experienced a small rise in 2009 and then drop continually between 2009 and 2012. Apparently, year 2012 is a watershed in the past few years, whose value reached valley among all. Since then, the political attention value has climbed, and especially stayed high in recent years. Although this value may not has absolute strong relation to what we want, as chief political camps, mass media coverage does reflect intergrowth of political trending in climate change issue."
   ]
  },
  {
   "cell_type": "markdown",
   "metadata": {},
   "source": [
    "### Import data from EPA's annual Inventory of the U.S. Greenhouse Gas Emissions and Sinks"
   ]
  },
  {
   "cell_type": "code",
   "execution_count": 10,
   "metadata": {},
   "outputs": [
    {
     "data": {
      "text/html": [
       "<div>\n",
       "<style scoped>\n",
       "    .dataframe tbody tr th:only-of-type {\n",
       "        vertical-align: middle;\n",
       "    }\n",
       "\n",
       "    .dataframe tbody tr th {\n",
       "        vertical-align: top;\n",
       "    }\n",
       "\n",
       "    .dataframe thead th {\n",
       "        text-align: right;\n",
       "    }\n",
       "</style>\n",
       "<table border=\"1\" class=\"dataframe\">\n",
       "  <thead>\n",
       "    <tr style=\"text-align: right;\">\n",
       "      <th></th>\n",
       "      <th>CO2_emission</th>\n",
       "    </tr>\n",
       "  </thead>\n",
       "  <tbody>\n",
       "    <tr>\n",
       "      <th>2008</th>\n",
       "      <td>7224.648980</td>\n",
       "    </tr>\n",
       "    <tr>\n",
       "      <th>2009</th>\n",
       "      <td>6772.000071</td>\n",
       "    </tr>\n",
       "    <tr>\n",
       "      <th>2010</th>\n",
       "      <td>6991.106343</td>\n",
       "    </tr>\n",
       "    <tr>\n",
       "      <th>2011</th>\n",
       "      <td>6827.402421</td>\n",
       "    </tr>\n",
       "    <tr>\n",
       "      <th>2012</th>\n",
       "      <td>6585.907766</td>\n",
       "    </tr>\n",
       "    <tr>\n",
       "      <th>2013</th>\n",
       "      <td>6764.669110</td>\n",
       "    </tr>\n",
       "    <tr>\n",
       "      <th>2014</th>\n",
       "      <td>6824.956709</td>\n",
       "    </tr>\n",
       "    <tr>\n",
       "      <th>2015</th>\n",
       "      <td>6671.112065</td>\n",
       "    </tr>\n",
       "    <tr>\n",
       "      <th>2016</th>\n",
       "      <td>6520.337839</td>\n",
       "    </tr>\n",
       "    <tr>\n",
       "      <th>2017</th>\n",
       "      <td>6483.291331</td>\n",
       "    </tr>\n",
       "    <tr>\n",
       "      <th>2018</th>\n",
       "      <td>6671.449401</td>\n",
       "    </tr>\n",
       "    <tr>\n",
       "      <th>2019</th>\n",
       "      <td>6558.345179</td>\n",
       "    </tr>\n",
       "  </tbody>\n",
       "</table>\n",
       "</div>"
      ],
      "text/plain": [
       "      CO2_emission\n",
       "2008   7224.648980\n",
       "2009   6772.000071\n",
       "2010   6991.106343\n",
       "2011   6827.402421\n",
       "2012   6585.907766\n",
       "2013   6764.669110\n",
       "2014   6824.956709\n",
       "2015   6671.112065\n",
       "2016   6520.337839\n",
       "2017   6483.291331\n",
       "2018   6671.449401\n",
       "2019   6558.345179"
      ]
     },
     "execution_count": 10,
     "metadata": {},
     "output_type": "execute_result"
    }
   ],
   "source": [
    "CO2_data = pd.read_csv('CO2_data.csv')\n",
    "CO2_data = CO2_data.T\n",
    "CO2_data.columns = ['CO2_emission']\n",
    "CO2_data"
   ]
  },
  {
   "cell_type": "code",
   "execution_count": 11,
   "metadata": {},
   "outputs": [
    {
     "data": {
      "text/plain": [
       "Text(0, 0.5, 'CO2 Emissions (MMT CO2 eq.)')"
      ]
     },
     "execution_count": 11,
     "metadata": {},
     "output_type": "execute_result"
    },
    {
     "data": {
      "image/png": "[encoded data removed]",
      "text/plain": [
       "<Figure size 720x288 with 1 Axes>"
      ]
     },
     "metadata": {
      "needs_background": "light"
     },
     "output_type": "display_data"
    }
   ],
   "source": [
    "# plot the trend of annual CO2 emissions\n",
    "fig = plt.figure(figsize=(10,4))\n",
    "plt.plot(CO2_data.index,CO2_data.CO2_emission,linewidth=2,color ='steelblue',marker='o',markersize=5)\n",
    "plt.title('CO2 Emissions in the U.S. (2008-2019)')\n",
    "plt.xlabel('year')\n",
    "plt.ylabel('CO2 Emissions (MMT CO2 eq.)')"
   ]
  },
  {
   "cell_type": "markdown",
   "metadata": {},
   "source": [
    "Starting from 2008, there is in general a decreasing trend of annual CO2 emission, accompanied with some fluctuation. In 2009, the emision dropped greatly by 6.3% due to factory shutdowns caused by the financial crisis. In 2010, the CO2 emission from industry production rises again, then followed by a continued decline from 2010 to 2012. However, from 2012-2014, the annual CO2 emissions shows a worrying upward trend, increased by 3.6% from 6586 MMT in 2012 to 6825 MMT in 2014. After that, the CO2 emission begins to drop continually and reaches the lowest point of 6483 MMT per year, followed by a significant increase in 2018 and again a small drop in 2019."
   ]
  },
  {
   "cell_type": "markdown",
   "metadata": {},
   "source": [
    "## Task 1.2: How did the political attitudes towards mitigating global warming fluctuate between 2008-2020"
   ]
  },
  {
   "cell_type": "markdown",
   "metadata": {},
   "source": [
    "### Now let's apply the sentiment analysis on the quotations retrieved to obtain *political support rate*"
   ]
  },
  {
   "cell_type": "code",
   "execution_count": null,
   "metadata": {},
   "outputs": [],
   "source": [
    "import nltk\n",
    "from nltk.sentiment.vader import SentimentIntensityAnalyzer\n",
    "from tqdm import tqdm\n",
    "nltk.download('vader_lexicon')\n",
    "\n",
    "# use vader package\n",
    "class SentimentCalculator:\n",
    "    def __init__(self) -> None:\n",
    "        self._sid = SentimentIntensityAnalyzer()\n",
    "\n",
    "    def sentiment_score(self, quote: str) -> float:\n",
    "        full_score = self._sid.polarity_scores(quote)\n",
    "        return full_score['compound']\n",
    "\n",
    "\n",
    "def get_attitude(score):\n",
    "    if score >= 0.05:\n",
    "        return 'POSITIVE'\n",
    "    elif score <= -0.05:\n",
    "        return 'NEGATIVE'\n",
    "    else:\n",
    "        return 'NEUTRAL'\n",
    "\n",
    "\n",
    "def get_sentiment(year, sc):\n",
    "    quotes = pd.read_pickle(\n",
    "        '/Users/mcx059/Data/Workspace/Python/ADAProject/Milestone3/Retrieved/retrieved-' + str(year) + '.pkl')\n",
    "    quotes = quotes.dropna(subset=['speaker'])\n",
    "    sents = quotes.quotation.apply(sc.sentiment_score)\n",
    "    sents_label = sents.apply(get_attitude)\n",
    "    quotes['Score'] = sents\n",
    "    quotes['Sentiment'] = sents_label\n",
    "    return quotes\n",
    "\n",
    "\n",
    "sc = SentimentCalculator()\n",
    "years = range(2008, 2021)\n",
    "out = '/Users/mcx059/Data/Workspace/Python/ADAProject/Milestone3/Sentiment/'\n",
    "for year in tqdm(years):\n",
    "    df = get_sentiment(year, sc)\n",
    "    df.to_pickle(out + 'sentiment_' + str(year) + '.pkl')\n",
    "    with open(out + 'log.txt', 'a', encoding='utf-8') as f:\n",
    "        f.write('Year %d, %d lines\\n' % (year, df.shape[0]))\n"
   ]
  },
  {
   "cell_type": "code",
   "execution_count": 14,
   "metadata": {},
   "outputs": [],
   "source": [
    "sentiment_2008 = pd.read_csv('Sentiment_csv/sentiment_2008.csv')\n",
    "sentiment_2009 = pd.read_csv('Sentiment_csv/sentiment_2009.csv')\n",
    "sentiment_2010 = pd.read_csv('Sentiment_csv/sentiment_2010.csv')\n",
    "sentiment_2011 = pd.read_csv('Sentiment_csv/sentiment_2011.csv')\n",
    "sentiment_2012 = pd.read_csv('Sentiment_csv/sentiment_2012.csv')\n",
    "sentiment_2013 = pd.read_csv('Sentiment_csv/sentiment_2013.csv')\n",
    "sentiment_2014 = pd.read_csv('Sentiment_csv/sentiment_2014.csv')\n",
    "sentiment_2015 = pd.read_csv('Sentiment_csv/sentiment_2015.csv')\n",
    "sentiment_2016 = pd.read_csv('Sentiment_csv/sentiment_2016.csv')\n",
    "sentiment_2017 = pd.read_csv('Sentiment_csv/sentiment_2017.csv')\n",
    "sentiment_2018 = pd.read_csv('Sentiment_csv/sentiment_2018.csv')\n",
    "sentiment_2019 = pd.read_csv('Sentiment_csv/sentiment_2019.csv')\n",
    "sentiment_2020 = pd.read_csv('Sentiment_csv/sentiment_2020.csv')"
   ]
  },
  {
   "cell_type": "code",
   "execution_count": 15,
   "metadata": {},
   "outputs": [
    {
     "data": {
      "image/png": "[encoded data removed]",
      "text/plain": [
       "<Figure size 432x288 with 1 Axes>"
      ]
     },
     "metadata": {
      "needs_background": "light"
     },
     "output_type": "display_data"
    }
   ],
   "source": [
    "# see how the sentiment score id distributed (2008 as an example)\n",
    "plt.hist(sentiment_2008['Score'].values,bins=50)\n",
    "plt.show()"
   ]
  },
  {
   "cell_type": "markdown",
   "metadata": {},
   "source": [
    "*Discuss*: A large number of quotations have score around 0, let's see if these quotations are \"neutral\" (-0.05~0.05) or \"negative\" (<-0.05>) according to our threshold."
   ]
  },
  {
   "cell_type": "code",
   "execution_count": 16,
   "metadata": {},
   "outputs": [
    {
     "data": {
      "image/png": "[encoded data removed]",
      "text/plain": [
       "<Figure size 432x288 with 1 Axes>"
      ]
     },
     "metadata": {
      "needs_background": "light"
     },
     "output_type": "display_data"
    }
   ],
   "source": [
    "# in detail, see if these quotations are \"neutral\" (-0.05~0.05) or \"negative\" (<-0.05>)\n",
    "plt.hist(sentiment_2008[(sentiment_2008['Score'] >= -0.1) & (sentiment_2008['Score'] <= 0)]['Score'].values,bins=50)\n",
    "plt.show()"
   ]
  },
  {
   "cell_type": "markdown",
   "metadata": {},
   "source": [
    "*Discuss*: They belong to \"neutral\" as their scores are no smaller than -0.02. Meanwhile, since a large number of quotations have score around (-0.02,0), the threshold for deciding \"neutral\" and \"negative\" plays an important role in this case. The (-0.05,0.05) standardized threshold is recommended by the developer of [Vader](https://github.com/cjhutto/vaderSentiment) toolkit, which is adopted in our study as well. However, it can be biased and result in different sentiment classification results.\n",
    "Now let's see how the quotation scores of other years are distributed."
   ]
  },
  {
   "cell_type": "code",
   "execution_count": 43,
   "metadata": {},
   "outputs": [
    {
     "data": {
      "image/png": "[encoded data removed]",
      "text/plain": [
       "<Figure size 864x576 with 15 Axes>"
      ]
     },
     "metadata": {
      "needs_background": "light"
     },
     "output_type": "display_data"
    }
   ],
   "source": [
    "# see how the quotation scores of other years are distributed\n",
    "sentiment_list = [sentiment_2008,sentiment_2009,sentiment_2010,sentiment_2011,sentiment_2012,sentiment_2013,sentiment_2014,\\\n",
    "                  sentiment_2015,sentiment_2016,sentiment_2017,sentiment_2018,sentiment_2019,sentiment_2020]\n",
    "\n",
    "fig, axes = plt.subplots(nrows=3, ncols=5, figsize=(12, 8))\n",
    "for idx, sentiment in enumerate(sentiment_list):\n",
    "    ax = axes[int(idx/5), idx%5] # int(idx / 4) = math.floor(i/4)\n",
    "    ax.hist(sentiment['Score'].values,bins=50)\n",
    "    ax.set_xlabel(\"\")\n",
    "    ax.set_ylabel(\"\")\n",
    "    ax.set_title(2008+idx)\n",
    "plt.suptitle('Sentiment Score Distribution (2008-2020)',x=0.5,y=1)\n",
    "fig.tight_layout()\n",
    "plt.show()"
   ]
  },
  {
   "cell_type": "markdown",
   "metadata": {},
   "source": [
    "*Discuss*: The number of quotations scored between -0.05 and 0 is extremely high in **all** years. It seems that this is not a coincidence. Now we check some of these quotations to see whether they are truly neutral."
   ]
  },
  {
   "cell_type": "code",
   "execution_count": 19,
   "metadata": {},
   "outputs": [
    {
     "name": "stdout",
     "output_type": "stream",
     "text": [
      "Climate change is real-but now is not the time,\n",
      "When it opens, LNG Canada's liquefaction facility in Kitimat will become BC's largest point-source emitter of greenhouse gasses (GHGs),\n",
      "the human contribution: changes in greenhouse gases and deforestation\n",
      "Is this a coincidence, or could the Yarrabubba impact event be an unexpected cause of global climate change.\n",
      "If you go to any of the right-wing think tanks or read the Murdoch press, it's just full of climate denialism and it's designed to deflect from the real objective which has to be to reduce our greenhouse gas emissions,\n"
     ]
    }
   ],
   "source": [
    "for quot in sentiment_2020[(sentiment_2020['Score'] >= -0.05) & (sentiment_2020['Score'] <= 0)]['quotation'][6:11]:\n",
    "    print(quot)"
   ]
  },
  {
   "cell_type": "markdown",
   "metadata": {},
   "source": [
    "*Discuss*: The quotations above are labeled \"neutral\" and they seem like a description of fact, but in fact, the first quotation implies a contempt for climate change (which should be classified as \"negative\"), and the last one alludes to concerns about climate change (which should be classified as \"positive\"). Thus, under the topic of climate change, few of the quotations should be \"neutral\" and only describe some facts. Either they implies a concern/support that human should take actions to mitigate climate change, or they are not in favor of it, like the first quotation showed above. Therefore, in theory, the appropriate threshold of \"neutral\" is very hard to define, at least it should be a narrower range. Despite of this, we still adopt the recommended standard threshold for simplicity."
   ]
  },
  {
   "cell_type": "markdown",
   "metadata": {},
   "source": [
    "Now let's check out the sentiment label distribution (after classification with threshold)."
   ]
  },
  {
   "cell_type": "code",
   "execution_count": 20,
   "metadata": {},
   "outputs": [
    {
     "data": {
      "image/png": "[encoded data removed]",
      "text/plain": [
       "<Figure size 864x576 with 15 Axes>"
      ]
     },
     "metadata": {
      "needs_background": "light"
     },
     "output_type": "display_data"
    }
   ],
   "source": [
    "# check out the sentiment label distribution\n",
    "fig, axes = plt.subplots(nrows=3, ncols=5, figsize=(12, 8))\n",
    "for idx, sentiment in enumerate(sentiment_list):\n",
    "    ax = axes[int(idx/5), idx%5] # int(idx / 4) = math.floor(i/4)\n",
    "    sns.countplot(x='Sentiment', data=sentiment,ax=ax,order=['NEGATIVE','NEUTRAL','POSITIVE'])\n",
    "    for tick in ax.get_xticklabels():\n",
    "        tick.set_rotation(45)\n",
    "    ax.set_xlabel(\"\")\n",
    "    ax.set_ylabel(\"\")\n",
    "    ax.set_title(2008+idx)\n",
    "plt.suptitle('Quotations Sentiment Distribution (2008-2020)')\n",
    "fig.tight_layout()"
   ]
  },
  {
   "cell_type": "markdown",
   "metadata": {},
   "source": [
    "*Discuss*: All the years follow a similar pattern, where positive quotations are dominant and neutral quotations are the least. This is consistent with common sense in a way that most of the politicians are in favour of taking actions to climate change. Now le's compute the proportion of the positive quotations each year as the political support rate of climate change."
   ]
  },
  {
   "cell_type": "code",
   "execution_count": 21,
   "metadata": {},
   "outputs": [],
   "source": [
    "# compute political support rate\n",
    "poli_supp_rate = pd.DataFrame(columns = ['political_support_rate'],dtype=object)\n",
    "for idx, sentiment in enumerate(sentiment_list):\n",
    "    rate = np.array(sentiment['Sentiment'] == 'POSITIVE').sum() / sentiment.shape[0]\n",
    "    poli_supp_rate = poli_supp_rate.append([{'political_support_rate':rate*100}], ignore_index=True)\n",
    "poli_supp_rate.set_index(np.arange(2008,2021), inplace=True)"
   ]
  },
  {
   "cell_type": "code",
   "execution_count": 22,
   "metadata": {},
   "outputs": [
    {
     "data": {
      "text/html": [
       "<div>\n",
       "<style scoped>\n",
       "    .dataframe tbody tr th:only-of-type {\n",
       "        vertical-align: middle;\n",
       "    }\n",
       "\n",
       "    .dataframe tbody tr th {\n",
       "        vertical-align: top;\n",
       "    }\n",
       "\n",
       "    .dataframe thead th {\n",
       "        text-align: right;\n",
       "    }\n",
       "</style>\n",
       "<table border=\"1\" class=\"dataframe\">\n",
       "  <thead>\n",
       "    <tr style=\"text-align: right;\">\n",
       "      <th></th>\n",
       "      <th>political_support_rate</th>\n",
       "    </tr>\n",
       "  </thead>\n",
       "  <tbody>\n",
       "    <tr>\n",
       "      <th>2008</th>\n",
       "      <td>58.802664</td>\n",
       "    </tr>\n",
       "    <tr>\n",
       "      <th>2009</th>\n",
       "      <td>59.210319</td>\n",
       "    </tr>\n",
       "    <tr>\n",
       "      <th>2010</th>\n",
       "      <td>62.462764</td>\n",
       "    </tr>\n",
       "    <tr>\n",
       "      <th>2011</th>\n",
       "      <td>62.952094</td>\n",
       "    </tr>\n",
       "    <tr>\n",
       "      <th>2012</th>\n",
       "      <td>62.090865</td>\n",
       "    </tr>\n",
       "    <tr>\n",
       "      <th>2013</th>\n",
       "      <td>61.804009</td>\n",
       "    </tr>\n",
       "    <tr>\n",
       "      <th>2014</th>\n",
       "      <td>60.244683</td>\n",
       "    </tr>\n",
       "    <tr>\n",
       "      <th>2015</th>\n",
       "      <td>59.023064</td>\n",
       "    </tr>\n",
       "    <tr>\n",
       "      <th>2016</th>\n",
       "      <td>60.397613</td>\n",
       "    </tr>\n",
       "    <tr>\n",
       "      <th>2017</th>\n",
       "      <td>60.542705</td>\n",
       "    </tr>\n",
       "    <tr>\n",
       "      <th>2018</th>\n",
       "      <td>60.219852</td>\n",
       "    </tr>\n",
       "    <tr>\n",
       "      <th>2019</th>\n",
       "      <td>55.988319</td>\n",
       "    </tr>\n",
       "    <tr>\n",
       "      <th>2020</th>\n",
       "      <td>55.159884</td>\n",
       "    </tr>\n",
       "  </tbody>\n",
       "</table>\n",
       "</div>"
      ],
      "text/plain": [
       "      political_support_rate\n",
       "2008               58.802664\n",
       "2009               59.210319\n",
       "2010               62.462764\n",
       "2011               62.952094\n",
       "2012               62.090865\n",
       "2013               61.804009\n",
       "2014               60.244683\n",
       "2015               59.023064\n",
       "2016               60.397613\n",
       "2017               60.542705\n",
       "2018               60.219852\n",
       "2019               55.988319\n",
       "2020               55.159884"
      ]
     },
     "execution_count": 22,
     "metadata": {},
     "output_type": "execute_result"
    }
   ],
   "source": [
    "poli_supp_rate"
   ]
  },
  {
   "cell_type": "code",
   "execution_count": 23,
   "metadata": {},
   "outputs": [
    {
     "data": {
      "text/plain": [
       "Text(0, 0.5, 'Political Support Rate (%)')"
      ]
     },
     "execution_count": 23,
     "metadata": {},
     "output_type": "execute_result"
    },
    {
     "data": {
      "image/png": "[encoded data removed]",
      "text/plain": [
       "<Figure size 720x288 with 1 Axes>"
      ]
     },
     "metadata": {
      "needs_background": "light"
     },
     "output_type": "display_data"
    }
   ],
   "source": [
    "# plot the trend of political support rate\n",
    "fig = plt.figure(figsize=(10,4))\n",
    "plt.plot(poli_supp_rate.index,poli_supp_rate.political_support_rate,linewidth=2,color ='steelblue',marker='o',markersize=5)\n",
    "plt.title('Political Support Rate of Climate Change (2008-2020)')\n",
    "plt.xticks(np.arange(2008,2021))\n",
    "plt.xlabel('year')\n",
    "plt.ylabel('Political Support Rate (%)')"
   ]
  },
  {
   "cell_type": "markdown",
   "metadata": {},
   "source": [
    "*Discuss*: In general, over 50% of quotations are positive in all years. Starting from 2008, the political support rate rises continually from 59% and reached the peak of 63% in 2011. After that, the rate decreases all the way again to 59%, followed by a slight rebound between 2015 and 2018. In recent years (2019-2020), it seems that the attitude of politicians turns to be more climate denial, with the political support rate falling to record lows of 55% in 2020."
   ]
  },
  {
   "cell_type": "markdown",
   "metadata": {},
   "source": [
    "## Task 1.3: What is the real impact of American political efforts on their actual emissions"
   ]
  },
  {
   "cell_type": "markdown",
   "metadata": {},
   "source": [
    "### Now we perform a linear regression task between the actual annual CO2 emission in the U.S., political attention value, and political support rate."
   ]
  },
  {
   "cell_type": "code",
   "execution_count": 25,
   "metadata": {},
   "outputs": [],
   "source": [
    "# create a dataframe to aggregate the variables: annual CO2 emission, political attention value, and political support rate for each year\n",
    "df = poli_atten_val.copy()\n",
    "CO2_data.loc[2020,'CO2_emission'] = np.nan\n",
    "df['political_support_rate'] = poli_supp_rate['political_support_rate'].values\n",
    "df['CO2_emission'] = CO2_data['CO2_emission'].values\n",
    "df = df.reset_index(drop=True)"
   ]
  },
  {
   "cell_type": "code",
   "execution_count": 26,
   "metadata": {},
   "outputs": [],
   "source": [
    "# save to file\n",
    "df.to_csv('data_task1.csv')"
   ]
  },
  {
   "cell_type": "code",
   "execution_count": 31,
   "metadata": {},
   "outputs": [
    {
     "data": {
      "image/png": "[encoded data removed]",
      "text/plain": [
       "<Figure size 864x576 with 3 Axes>"
      ]
     },
     "metadata": {
      "needs_background": "light"
     },
     "output_type": "display_data"
    }
   ],
   "source": [
    "# plot the three variables\n",
    "fig, axes = plt.subplots(nrows=3, ncols=1, figsize=(12, 8))\n",
    "axes[0].plot(df.year,df.CO2_emission,linewidth=2,color ='steelblue',marker='o',markersize=5)\n",
    "axes[0].set_title('CO2 Emissions in the U.S. (2008-2019)')\n",
    "axes[0].set_xticks(np.arange(2008,2021))\n",
    "axes[0].set_ylabel('CO2 Emissions (MMT CO2 eq.)')\n",
    "\n",
    "axes[1].plot(df.year,df.poli_atten_val,linewidth=2,color ='steelblue',marker='o',markersize=5)\n",
    "axes[1].set_title('Political attention value of Climate Change (2008-2020)')\n",
    "axes[1].set_xticks(np.arange(2008,2021))\n",
    "axes[1].set_ylabel('Political Attention Value (%)')\n",
    "\n",
    "axes[2].plot(df.year,df.political_support_rate,linewidth=2,color ='steelblue',marker='o',markersize=5)\n",
    "axes[2].set_title('Political Support Rate of Climate Change (2008-2020)')\n",
    "axes[2].set_xticks(np.arange(2008,2021))\n",
    "axes[2].set_ylabel('Political Support Rate (%)')\n",
    "fig.tight_layout()"
   ]
  },
  {
   "cell_type": "markdown",
   "metadata": {},
   "source": [
    "Now we perform regression analysis"
   ]
  },
  {
   "cell_type": "code",
   "execution_count": 28,
   "metadata": {
    "scrolled": false
   },
   "outputs": [
    {
     "name": "stdout",
     "output_type": "stream",
     "text": [
      "                            OLS Regression Results                            \n",
      "==============================================================================\n",
      "Dep. Variable:           CO2_emission   R-squared:                       0.020\n",
      "Model:                            OLS   Adj. R-squared:                 -0.198\n",
      "Method:                 Least Squares   F-statistic:                   0.09190\n",
      "Date:                Tue, 14 Dec 2021   Prob (F-statistic):              0.913\n",
      "Time:                        20:06:19   Log-Likelihood:                -80.667\n",
      "No. Observations:                  12   AIC:                             167.3\n",
      "Df Residuals:                       9   BIC:                             168.8\n",
      "Df Model:                           2                                         \n",
      "Covariance Type:            nonrobust                                         \n",
      "==========================================================================================\n",
      "                             coef    std err          t      P>|t|      [0.025      0.975]\n",
      "------------------------------------------------------------------------------------------\n",
      "Intercept               4999.2623   5070.596      0.986      0.350   -6471.223    1.65e+04\n",
      "poli_atten_val           339.9268   1706.249      0.199      0.847   -3519.877    4199.731\n",
      "political_support_rate    26.8659     75.059      0.358      0.729    -142.928     196.660\n",
      "==============================================================================\n",
      "Omnibus:                        7.234   Durbin-Watson:                   0.979\n",
      "Prob(Omnibus):                  0.027   Jarque-Bera (JB):                3.295\n",
      "Skew:                           1.150   Prob(JB):                        0.193\n",
      "Kurtosis:                       4.141   Cond. No.                     4.78e+03\n",
      "==============================================================================\n",
      "\n",
      "Warnings:\n",
      "[1] Standard Errors assume that the covariance matrix of the errors is correctly specified.\n",
      "[2] The condition number is large, 4.78e+03. This might indicate that there are\n",
      "strong multicollinearity or other numerical problems.\n"
     ]
    },
    {
     "name": "stderr",
     "output_type": "stream",
     "text": [
      "/home/anaconda/lib/python3.7/site-packages/scipy/stats/stats.py:1416: UserWarning: kurtosistest only valid for n>=20 ... continuing anyway, n=12\n",
      "  \"anyway, n=%i\" % int(n))\n"
     ]
    }
   ],
   "source": [
    "import statsmodels.formula.api as smf\n",
    "\n",
    "# multiple regression\n",
    "mod = smf.ols(formula='CO2_emission ~ poli_atten_val + political_support_rate', data=df)\n",
    "res = mod.fit()\n",
    "print(res.summary())"
   ]
  },
  {
   "cell_type": "code",
   "execution_count": 29,
   "metadata": {},
   "outputs": [
    {
     "name": "stdout",
     "output_type": "stream",
     "text": [
      "                            OLS Regression Results                            \n",
      "==============================================================================\n",
      "Dep. Variable:           CO2_emission   R-squared:                       0.115\n",
      "Model:                            OLS   Adj. R-squared:                 -0.216\n",
      "Method:                 Least Squares   F-statistic:                    0.3480\n",
      "Date:                Tue, 14 Dec 2021   Prob (F-statistic):              0.792\n",
      "Time:                        20:06:20   Log-Likelihood:                -80.053\n",
      "No. Observations:                  12   AIC:                             168.1\n",
      "Df Residuals:                       8   BIC:                             170.0\n",
      "Df Model:                           3                                         \n",
      "Covariance Type:            nonrobust                                         \n",
      "=========================================================================================================\n",
      "                                            coef    std err          t      P>|t|      [0.025      0.975]\n",
      "---------------------------------------------------------------------------------------------------------\n",
      "Intercept                              1.215e+04   9239.757      1.315      0.225   -9156.315    3.35e+04\n",
      "poli_atten_val                        -2.074e+04   2.28e+04     -0.911      0.389   -7.32e+04    3.17e+04\n",
      "political_support_rate                  -96.4141    152.751     -0.631      0.546    -448.658     255.830\n",
      "poli_atten_val:political_support_rate   364.9041    392.816      0.929      0.380    -540.931    1270.739\n",
      "==============================================================================\n",
      "Omnibus:                        4.826   Durbin-Watson:                   1.131\n",
      "Prob(Omnibus):                  0.090   Jarque-Bera (JB):                1.800\n",
      "Skew:                           0.835   Prob(JB):                        0.407\n",
      "Kurtosis:                       3.900   Cond. No.                     2.29e+04\n",
      "==============================================================================\n",
      "\n",
      "Warnings:\n",
      "[1] Standard Errors assume that the covariance matrix of the errors is correctly specified.\n",
      "[2] The condition number is large, 2.29e+04. This might indicate that there are\n",
      "strong multicollinearity or other numerical problems.\n"
     ]
    },
    {
     "name": "stderr",
     "output_type": "stream",
     "text": [
      "/home/anaconda/lib/python3.7/site-packages/scipy/stats/stats.py:1416: UserWarning: kurtosistest only valid for n>=20 ... continuing anyway, n=12\n",
      "  \"anyway, n=%i\" % int(n))\n"
     ]
    }
   ],
   "source": [
    "# interaction\n",
    "mod = smf.ols(formula='CO2_emission ~ poli_atten_val * political_support_rate', data=df)\n",
    "res = mod.fit()\n",
    "print(res.summary())"
   ]
  },
  {
   "cell_type": "markdown",
   "metadata": {},
   "source": [
    "*Discuss*: Since we only have 12 samples data points, it is not enough to perform a solid regression analysis. The R-squares of the two regression models are not satisfactory, and since the p-values are far larger than 0.05, neither of the two predictors are significant. Therefore, we cannot come to any meaningful conclusions according to the regression analysis. However,we had another interesting finding that the attention value seems correlated. Now let's look into some details."
   ]
  },
  {
   "cell_type": "code",
   "execution_count": 36,
   "metadata": {},
   "outputs": [
    {
     "data": {
      "image/png": "[encoded data removed]",
      "text/plain": [
       "<Figure size 432x288 with 1 Axes>"
      ]
     },
     "metadata": {
      "needs_background": "light"
     },
     "output_type": "display_data"
    }
   ],
   "source": [
    "# Scatter plot of political attention value and support rate\n",
    "sns.regplot(x='poli_atten_val', y='political_support_rate', data=df)    \n",
    "plt.title(\"Scatter plot of political attention value and support rate\")\n",
    "plt.xlabel('political attention value (%)')\n",
    "plt.ylabel('political support rate (%)')\n",
    "plt.show()"
   ]
  },
  {
   "cell_type": "code",
   "execution_count": 32,
   "metadata": {},
   "outputs": [
    {
     "name": "stdout",
     "output_type": "stream",
     "text": [
      "Pearson correlation: -0.91, p-value: 0.000019\n",
      "Spearman correlation: -0.81, p-value: 0.000839\n"
     ]
    }
   ],
   "source": [
    "# calculate the correlation and p-value\n",
    "from scipy.stats import pearsonr, spearmanr\n",
    "\n",
    "r, p = pearsonr(df['poli_atten_val'], df['political_support_rate'])\n",
    "print('Pearson correlation: %.2f, p-value: %.6f' % (r,p))\n",
    "\n",
    "r, p = spearmanr(df['poli_atten_val'], df['political_support_rate'])\n",
    "print('Spearman correlation: %.2f, p-value: %.6f' % (r,p))"
   ]
  },
  {
   "cell_type": "markdown",
   "metadata": {},
   "source": [
    "*Discuss*: There is a significant **negative** correlation betweeen political attention value and support rate. The underlying explanation can be that, when politicians focus more on the climate topic (increase in political attention), the more more objections there will be. This is because:\n",
    "1. Normally when a ruling party is spending a lot of money in environmental protection but without much progress, it becomes a weakness that is caught out on and criticized.\n",
    "2. Politicians tend to have the consensus that actions should be taken to mitigate climate change, but when a lot of politicians are constantly arguing about it, the opposite opinions will more likely to emerge."
   ]
  },
  {
   "cell_type": "markdown",
   "metadata": {},
   "source": [
    "# Task 2: How do politicians’ demographic factors (party affiliation, nationality, gender, ethnic group, occupation, religion, age,  academic degree) affect their attitudes to this issue"
   ]
  },
  {
   "cell_type": "markdown",
   "metadata": {},
   "source": [
    "### Firstly we need to clean the data of the speakers from Wikipedia, their demographic factors include: \n",
    "- party\n",
    "- nationality\n",
    "- gender\n",
    "- ethnic group\n",
    "- occupation\n",
    "- religion\n",
    "- birth year\n",
    "- highest academic degree\n",
    "\n",
    "Besides theses factors, the dataframe should also contain their 'id' (which can be linked to the 'id' column of our quotation dataframe) and 'label' (their names)."
   ]
  },
  {
   "cell_type": "markdown",
   "metadata": {},
   "source": [
    "There are two files concerning Wiki data, one is *speaker_attributes.parquet*, containing all the attributes of the speakers in the form of a list [Qxxx] (a.k.a. 'qid'), another is *wikidata_labels_descriptions_quotebank*, which contains all the real descreptions of the attributes."
   ]
  },
  {
   "cell_type": "code",
   "execution_count": 36,
   "metadata": {},
   "outputs": [],
   "source": [
    "# load and clean wiki data\n",
    "import pandas as pd\n",
    "\n",
    "def load_wiki(path_to_file) -> pd.DataFrame:\n",
    "    \"\"\"Load wikidata of speakers\n",
    "    \"\"\"\n",
    "    data_wiki = pd.read_parquet(path_to_file)\n",
    "    data_wiki = data_wiki[['id', 'label', 'party', 'aliases', 'date_of_birth', 'nationality', 'gender', 'ethnic_group', 'occupation', 'academic_degree', 'candidacy', 'religion']]\n",
    "    return data_wiki\n",
    "\n",
    "def clean_wiki(data_wiki) -> pd.DataFrame:\n",
    "    \"\"\"Clean wikidata of speakers\n",
    "    \"\"\"\n",
    "    # Remove rows with no ids\n",
    "    data_wiki_cleaned = data_wiki.dropna(axis=0, subset=['id']).reset_index(drop=True)\n",
    "    return data_wiki_cleaned"
   ]
  },
  {
   "cell_type": "code",
   "execution_count": 35,
   "metadata": {},
   "outputs": [],
   "source": [
    "# load file into memory\n",
    "wiki = load_wiki('Wiki/speaker_attributes.parquet')"
   ]
  },
  {
   "cell_type": "code",
   "execution_count": 37,
   "metadata": {},
   "outputs": [
    {
     "data": {
      "text/html": [
       "<div>\n",
       "<style scoped>\n",
       "    .dataframe tbody tr th:only-of-type {\n",
       "        vertical-align: middle;\n",
       "    }\n",
       "\n",
       "    .dataframe tbody tr th {\n",
       "        vertical-align: top;\n",
       "    }\n",
       "\n",
       "    .dataframe thead th {\n",
       "        text-align: right;\n",
       "    }\n",
       "</style>\n",
       "<table border=\"1\" class=\"dataframe\">\n",
       "  <thead>\n",
       "    <tr style=\"text-align: right;\">\n",
       "      <th></th>\n",
       "      <th>id</th>\n",
       "      <th>label</th>\n",
       "      <th>party</th>\n",
       "      <th>aliases</th>\n",
       "      <th>date_of_birth</th>\n",
       "      <th>nationality</th>\n",
       "      <th>gender</th>\n",
       "      <th>ethnic_group</th>\n",
       "      <th>occupation</th>\n",
       "      <th>academic_degree</th>\n",
       "      <th>candidacy</th>\n",
       "      <th>religion</th>\n",
       "    </tr>\n",
       "  </thead>\n",
       "  <tbody>\n",
       "    <tr>\n",
       "      <th>0</th>\n",
       "      <td>Q23</td>\n",
       "      <td>George Washington</td>\n",
       "      <td>[Q327591]</td>\n",
       "      <td>[Washington, President Washington, G. Washingt...</td>\n",
       "      <td>[+1732-02-22T00:00:00Z]</td>\n",
       "      <td>[Q161885, Q30]</td>\n",
       "      <td>[Q6581097]</td>\n",
       "      <td>None</td>\n",
       "      <td>[Q82955, Q189290, Q131512, Q1734662, Q294126, ...</td>\n",
       "      <td>None</td>\n",
       "      <td>[Q698073, Q697949]</td>\n",
       "      <td>[Q682443]</td>\n",
       "    </tr>\n",
       "    <tr>\n",
       "      <th>1</th>\n",
       "      <td>Q42</td>\n",
       "      <td>Douglas Adams</td>\n",
       "      <td>None</td>\n",
       "      <td>[Douglas Noel Adams, Douglas Noël Adams, Dougl...</td>\n",
       "      <td>[+1952-03-11T00:00:00Z]</td>\n",
       "      <td>[Q145]</td>\n",
       "      <td>[Q6581097]</td>\n",
       "      <td>[Q7994501]</td>\n",
       "      <td>[Q214917, Q28389, Q6625963, Q4853732, Q1884422...</td>\n",
       "      <td>None</td>\n",
       "      <td>None</td>\n",
       "      <td>None</td>\n",
       "    </tr>\n",
       "    <tr>\n",
       "      <th>2</th>\n",
       "      <td>Q1868</td>\n",
       "      <td>Paul Otlet</td>\n",
       "      <td>None</td>\n",
       "      <td>[Paul Marie Ghislain Otlet, Paul Marie Otlet]</td>\n",
       "      <td>[+1868-08-23T00:00:00Z]</td>\n",
       "      <td>[Q31]</td>\n",
       "      <td>[Q6581097]</td>\n",
       "      <td>None</td>\n",
       "      <td>[Q36180, Q40348, Q182436, Q1265807, Q205375, Q...</td>\n",
       "      <td>None</td>\n",
       "      <td>None</td>\n",
       "      <td>None</td>\n",
       "    </tr>\n",
       "    <tr>\n",
       "      <th>3</th>\n",
       "      <td>Q207</td>\n",
       "      <td>George W. Bush</td>\n",
       "      <td>[Q29468]</td>\n",
       "      <td>[George Walker Bush, Bush Jr., Dubya, GWB, Bus...</td>\n",
       "      <td>[+1946-07-06T00:00:00Z]</td>\n",
       "      <td>[Q30]</td>\n",
       "      <td>[Q6581097]</td>\n",
       "      <td>None</td>\n",
       "      <td>[Q82955, Q15982858, Q18814623, Q1028181, Q1408...</td>\n",
       "      <td>None</td>\n",
       "      <td>[Q327959, Q464075, Q3586276, Q4450587]</td>\n",
       "      <td>[Q329646, Q682443, Q33203]</td>\n",
       "    </tr>\n",
       "    <tr>\n",
       "      <th>4</th>\n",
       "      <td>Q297</td>\n",
       "      <td>Diego Velázquez</td>\n",
       "      <td>None</td>\n",
       "      <td>[Velázquez, Diego Rodríguez de Silva y Velázqu...</td>\n",
       "      <td>[+1599-06-06T00:00:00Z]</td>\n",
       "      <td>[Q29]</td>\n",
       "      <td>[Q6581097]</td>\n",
       "      <td>None</td>\n",
       "      <td>[Q1028181]</td>\n",
       "      <td>None</td>\n",
       "      <td>None</td>\n",
       "      <td>None</td>\n",
       "    </tr>\n",
       "  </tbody>\n",
       "</table>\n",
       "</div>"
      ],
      "text/plain": [
       "      id              label      party  \\\n",
       "0    Q23  George Washington  [Q327591]   \n",
       "1    Q42      Douglas Adams       None   \n",
       "2  Q1868         Paul Otlet       None   \n",
       "3   Q207     George W. Bush   [Q29468]   \n",
       "4   Q297    Diego Velázquez       None   \n",
       "\n",
       "                                             aliases            date_of_birth  \\\n",
       "0  [Washington, President Washington, G. Washingt...  [+1732-02-22T00:00:00Z]   \n",
       "1  [Douglas Noel Adams, Douglas Noël Adams, Dougl...  [+1952-03-11T00:00:00Z]   \n",
       "2      [Paul Marie Ghislain Otlet, Paul Marie Otlet]  [+1868-08-23T00:00:00Z]   \n",
       "3  [George Walker Bush, Bush Jr., Dubya, GWB, Bus...  [+1946-07-06T00:00:00Z]   \n",
       "4  [Velázquez, Diego Rodríguez de Silva y Velázqu...  [+1599-06-06T00:00:00Z]   \n",
       "\n",
       "      nationality      gender ethnic_group  \\\n",
       "0  [Q161885, Q30]  [Q6581097]         None   \n",
       "1          [Q145]  [Q6581097]   [Q7994501]   \n",
       "2           [Q31]  [Q6581097]         None   \n",
       "3           [Q30]  [Q6581097]         None   \n",
       "4           [Q29]  [Q6581097]         None   \n",
       "\n",
       "                                          occupation academic_degree  \\\n",
       "0  [Q82955, Q189290, Q131512, Q1734662, Q294126, ...            None   \n",
       "1  [Q214917, Q28389, Q6625963, Q4853732, Q1884422...            None   \n",
       "2  [Q36180, Q40348, Q182436, Q1265807, Q205375, Q...            None   \n",
       "3  [Q82955, Q15982858, Q18814623, Q1028181, Q1408...            None   \n",
       "4                                         [Q1028181]            None   \n",
       "\n",
       "                                candidacy                    religion  \n",
       "0                      [Q698073, Q697949]                   [Q682443]  \n",
       "1                                    None                        None  \n",
       "2                                    None                        None  \n",
       "3  [Q327959, Q464075, Q3586276, Q4450587]  [Q329646, Q682443, Q33203]  \n",
       "4                                    None                        None  "
      ]
     },
     "execution_count": 37,
     "metadata": {},
     "output_type": "execute_result"
    }
   ],
   "source": [
    "# check out how speaker_attributes looks like\n",
    "wiki = clean_wiki(wiki)\n",
    "wiki.head(5)"
   ]
  },
  {
   "cell_type": "code",
   "execution_count": 38,
   "metadata": {},
   "outputs": [],
   "source": [
    "# drop some columns that we don't need\n",
    "speaker_attributes = wiki.drop(labels='aliases', axis=1)"
   ]
  },
  {
   "cell_type": "markdown",
   "metadata": {},
   "source": [
    "we keep the last QID of the nationality column, and the first QID of other attributes"
   ]
  },
  {
   "cell_type": "code",
   "execution_count": 39,
   "metadata": {},
   "outputs": [],
   "source": [
    "def get_first_qid(qids):\n",
    "    try:\n",
    "        return qids[0]\n",
    "    except:\n",
    "        return None\n",
    "    \n",
    "def get_last_qid(qids):\n",
    "    try:\n",
    "        return qids[-1]\n",
    "    except:\n",
    "        return None"
   ]
  },
  {
   "cell_type": "code",
   "execution_count": 40,
   "metadata": {},
   "outputs": [],
   "source": [
    "speaker_attributes.loc[:, 'party'] = speaker_attributes.party.apply(get_first_qid)\n",
    "speaker_attributes.loc[:, 'nationality'] = speaker_attributes.nationality.apply(get_last_qid)\n",
    "speaker_attributes.loc[:, 'gender'] = speaker_attributes.gender.apply(get_first_qid)\n",
    "speaker_attributes.loc[:, 'ethnic_group'] = speaker_attributes.ethnic_group.apply(get_first_qid)\n",
    "speaker_attributes.loc[:, 'occupation'] = speaker_attributes.occupation.apply(get_first_qid)\n",
    "speaker_attributes.loc[:, 'religion'] = speaker_attributes.religion.apply(get_first_qid)"
   ]
  },
  {
   "cell_type": "markdown",
   "metadata": {},
   "source": [
    "now we work on 'date_of_birth' and convert it to 'birth_year'"
   ]
  },
  {
   "cell_type": "code",
   "execution_count": 41,
   "metadata": {},
   "outputs": [],
   "source": [
    "def get_birth_year(x):\n",
    "    try:\n",
    "        year = re.compile(r'\\d{4}').findall(x[0])[0]\n",
    "    except:\n",
    "        year = None\n",
    "    return year\n",
    "\n",
    "def get_last_qid(qids):\n",
    "    try:\n",
    "        return qids[-1]\n",
    "    except:\n",
    "        return None"
   ]
  },
  {
   "cell_type": "code",
   "execution_count": 42,
   "metadata": {},
   "outputs": [],
   "source": [
    "speaker_attributes['birth_year'] = speaker_attributes.date_of_birth.apply(get_birth_year)\n",
    "speaker_attributes = speaker_attributes.drop(labels='date_of_birth', axis=1)"
   ]
  },
  {
   "cell_type": "markdown",
   "metadata": {},
   "source": [
    "work on 'academic_degree' column"
   ]
  },
  {
   "cell_type": "code",
   "execution_count": 43,
   "metadata": {},
   "outputs": [
    {
     "data": {
      "text/html": [
       "<div>\n",
       "<style scoped>\n",
       "    .dataframe tbody tr th:only-of-type {\n",
       "        vertical-align: middle;\n",
       "    }\n",
       "\n",
       "    .dataframe tbody tr th {\n",
       "        vertical-align: top;\n",
       "    }\n",
       "\n",
       "    .dataframe thead th {\n",
       "        text-align: right;\n",
       "    }\n",
       "</style>\n",
       "<table border=\"1\" class=\"dataframe\">\n",
       "  <thead>\n",
       "    <tr style=\"text-align: right;\">\n",
       "      <th></th>\n",
       "      <th>id</th>\n",
       "      <th>label</th>\n",
       "      <th>academic_degree</th>\n",
       "    </tr>\n",
       "  </thead>\n",
       "  <tbody>\n",
       "    <tr>\n",
       "      <th>16</th>\n",
       "      <td>Q997</td>\n",
       "      <td>Andrei Sakharov</td>\n",
       "      <td>[Q17281097]</td>\n",
       "    </tr>\n",
       "    <tr>\n",
       "      <th>17</th>\n",
       "      <td>Q1056</td>\n",
       "      <td>Italo Balbo</td>\n",
       "      <td>[Q1054679]</td>\n",
       "    </tr>\n",
       "    <tr>\n",
       "      <th>52</th>\n",
       "      <td>Q2567</td>\n",
       "      <td>Richard von Weizsäcker</td>\n",
       "      <td>[Q849697]</td>\n",
       "    </tr>\n",
       "    <tr>\n",
       "      <th>54</th>\n",
       "      <td>Q2677</td>\n",
       "      <td>Wilhelm II</td>\n",
       "      <td>[Q18745564]</td>\n",
       "    </tr>\n",
       "    <tr>\n",
       "      <th>79</th>\n",
       "      <td>Q4496</td>\n",
       "      <td>Mitt Romney</td>\n",
       "      <td>[Q1765120, Q191701, Q1540185]</td>\n",
       "    </tr>\n",
       "  </tbody>\n",
       "</table>\n",
       "</div>"
      ],
      "text/plain": [
       "       id                   label                academic_degree\n",
       "16   Q997         Andrei Sakharov                    [Q17281097]\n",
       "17  Q1056             Italo Balbo                     [Q1054679]\n",
       "52  Q2567  Richard von Weizsäcker                      [Q849697]\n",
       "54  Q2677              Wilhelm II                    [Q18745564]\n",
       "79  Q4496             Mitt Romney  [Q1765120, Q191701, Q1540185]"
      ]
     },
     "execution_count": 43,
     "metadata": {},
     "output_type": "execute_result"
    }
   ],
   "source": [
    "with_degree = speaker_attributes.loc[~speaker_attributes.academic_degree.isna()][['id', 'label', 'academic_degree']]\n",
    "with_degree.head()"
   ]
  },
  {
   "cell_type": "code",
   "execution_count": 44,
   "metadata": {},
   "outputs": [],
   "source": [
    "# find the highest degree\n",
    "def find_highest_degree(aca_list):\n",
    "    degree = None\n",
    "    if aca_list is not None:\n",
    "        try:\n",
    "            aca_list_label = str(list(map(search_label, aca_list)))\n",
    "            if len(re.compile(r'[Dd]octor').findall(aca_list_label)) > 0:\n",
    "                degree = 'Doctor'\n",
    "            elif len(re.compile(r'[Mm]aster').findall(aca_list_label)) > 0:\n",
    "                degree = 'Master'\n",
    "            elif len(re.compile(r'[Bb]achelor').findall(aca_list_label)) > 0:\n",
    "                degree = 'Bachelor'\n",
    "        except:\n",
    "            degree = None\n",
    "    return degree"
   ]
  },
  {
   "cell_type": "code",
   "execution_count": 45,
   "metadata": {},
   "outputs": [],
   "source": [
    "with_degree['highest_degree'] = with_degree.academic_degree.apply(find_highest_degree)\n",
    "with_degree = with_degree.drop(labels='academic_degree', axis=1)"
   ]
  },
  {
   "cell_type": "code",
   "execution_count": 46,
   "metadata": {},
   "outputs": [],
   "source": [
    "# merge with_degree with speaker_attributes\n",
    "speaker_attributes = speaker_attributes.merge(with_degree[['id', 'highest_degree']], how='left', on='id')\n",
    "speaker_attributes = speaker_attributes.drop(labels='academic_degree', axis=1)"
   ]
  },
  {
   "cell_type": "code",
   "execution_count": 47,
   "metadata": {},
   "outputs": [
    {
     "data": {
      "text/html": [
       "<div>\n",
       "<style scoped>\n",
       "    .dataframe tbody tr th:only-of-type {\n",
       "        vertical-align: middle;\n",
       "    }\n",
       "\n",
       "    .dataframe tbody tr th {\n",
       "        vertical-align: top;\n",
       "    }\n",
       "\n",
       "    .dataframe thead th {\n",
       "        text-align: right;\n",
       "    }\n",
       "</style>\n",
       "<table border=\"1\" class=\"dataframe\">\n",
       "  <thead>\n",
       "    <tr style=\"text-align: right;\">\n",
       "      <th></th>\n",
       "      <th>id</th>\n",
       "      <th>label</th>\n",
       "      <th>party</th>\n",
       "      <th>nationality</th>\n",
       "      <th>gender</th>\n",
       "      <th>ethnic_group</th>\n",
       "      <th>occupation</th>\n",
       "      <th>candidacy</th>\n",
       "      <th>religion</th>\n",
       "      <th>birth_year</th>\n",
       "      <th>highest_degree</th>\n",
       "    </tr>\n",
       "  </thead>\n",
       "  <tbody>\n",
       "    <tr>\n",
       "      <th>0</th>\n",
       "      <td>Q23</td>\n",
       "      <td>George Washington</td>\n",
       "      <td>Q327591</td>\n",
       "      <td>Q30</td>\n",
       "      <td>Q6581097</td>\n",
       "      <td>None</td>\n",
       "      <td>Q82955</td>\n",
       "      <td>[Q698073, Q697949]</td>\n",
       "      <td>Q682443</td>\n",
       "      <td>1732</td>\n",
       "      <td>None</td>\n",
       "    </tr>\n",
       "    <tr>\n",
       "      <th>1</th>\n",
       "      <td>Q42</td>\n",
       "      <td>Douglas Adams</td>\n",
       "      <td>None</td>\n",
       "      <td>Q145</td>\n",
       "      <td>Q6581097</td>\n",
       "      <td>Q7994501</td>\n",
       "      <td>Q214917</td>\n",
       "      <td>None</td>\n",
       "      <td>None</td>\n",
       "      <td>1952</td>\n",
       "      <td>None</td>\n",
       "    </tr>\n",
       "    <tr>\n",
       "      <th>2</th>\n",
       "      <td>Q1868</td>\n",
       "      <td>Paul Otlet</td>\n",
       "      <td>None</td>\n",
       "      <td>Q31</td>\n",
       "      <td>Q6581097</td>\n",
       "      <td>None</td>\n",
       "      <td>Q36180</td>\n",
       "      <td>None</td>\n",
       "      <td>None</td>\n",
       "      <td>1868</td>\n",
       "      <td>None</td>\n",
       "    </tr>\n",
       "    <tr>\n",
       "      <th>3</th>\n",
       "      <td>Q207</td>\n",
       "      <td>George W. Bush</td>\n",
       "      <td>Q29468</td>\n",
       "      <td>Q30</td>\n",
       "      <td>Q6581097</td>\n",
       "      <td>None</td>\n",
       "      <td>Q82955</td>\n",
       "      <td>[Q327959, Q464075, Q3586276, Q4450587]</td>\n",
       "      <td>Q329646</td>\n",
       "      <td>1946</td>\n",
       "      <td>None</td>\n",
       "    </tr>\n",
       "    <tr>\n",
       "      <th>4</th>\n",
       "      <td>Q297</td>\n",
       "      <td>Diego Velázquez</td>\n",
       "      <td>None</td>\n",
       "      <td>Q29</td>\n",
       "      <td>Q6581097</td>\n",
       "      <td>None</td>\n",
       "      <td>Q1028181</td>\n",
       "      <td>None</td>\n",
       "      <td>None</td>\n",
       "      <td>1599</td>\n",
       "      <td>None</td>\n",
       "    </tr>\n",
       "  </tbody>\n",
       "</table>\n",
       "</div>"
      ],
      "text/plain": [
       "      id              label    party nationality    gender ethnic_group  \\\n",
       "0    Q23  George Washington  Q327591         Q30  Q6581097         None   \n",
       "1    Q42      Douglas Adams     None        Q145  Q6581097     Q7994501   \n",
       "2  Q1868         Paul Otlet     None         Q31  Q6581097         None   \n",
       "3   Q207     George W. Bush   Q29468         Q30  Q6581097         None   \n",
       "4   Q297    Diego Velázquez     None         Q29  Q6581097         None   \n",
       "\n",
       "  occupation                               candidacy religion birth_year  \\\n",
       "0     Q82955                      [Q698073, Q697949]  Q682443       1732   \n",
       "1    Q214917                                    None     None       1952   \n",
       "2     Q36180                                    None     None       1868   \n",
       "3     Q82955  [Q327959, Q464075, Q3586276, Q4450587]  Q329646       1946   \n",
       "4   Q1028181                                    None     None       1599   \n",
       "\n",
       "  highest_degree  \n",
       "0           None  \n",
       "1           None  \n",
       "2           None  \n",
       "3           None  \n",
       "4           None  "
      ]
     },
     "execution_count": 47,
     "metadata": {},
     "output_type": "execute_result"
    }
   ],
   "source": [
    "speaker_attributes.loc[speaker_attributes.highest_degree.isna(), 'highest_degree'] = None\n",
    "speaker_attributes.head()"
   ]
  },
  {
   "cell_type": "markdown",
   "metadata": {},
   "source": [
    "now check on the 'candidacy' column, in order to check the content rather than QID, we also load the *wikidata_labels_descriptions_quotebank* file and link it to *speaker_attributes*"
   ]
  },
  {
   "cell_type": "code",
   "execution_count": 48,
   "metadata": {},
   "outputs": [],
   "source": [
    "wiki_label = pd.read_csv('Wiki/wikidata_labels_descriptions_quotebank.csv.bz2')"
   ]
  },
  {
   "cell_type": "code",
   "execution_count": 49,
   "metadata": {},
   "outputs": [],
   "source": [
    "def search_label(qid: str, labels: pd.DataFrame = wiki_label) -> str:\n",
    "    \"\"\"Search for the label of a given qid\n",
    "    \"\"\"\n",
    "    try:\n",
    "        label = labels[labels['QID'] == qid]['Label'].values[0]\n",
    "    except:\n",
    "        label = None\n",
    "    return label"
   ]
  },
  {
   "cell_type": "code",
   "execution_count": 50,
   "metadata": {},
   "outputs": [
    {
     "data": {
      "text/plain": [
       "['2018 Wigan Metropolitan Borough Council election in Wigan Central']"
      ]
     },
     "execution_count": 50,
     "metadata": {},
     "output_type": "execute_result"
    }
   ],
   "source": [
    "list(map(search_label, speaker_attributes.candidacy.loc[9055460]))"
   ]
  },
  {
   "cell_type": "markdown",
   "metadata": {},
   "source": [
    "'candidacy' contains position/status infomation of the speaker in election, which is trivial and unimportant in our study. Thus, we drop this attribute."
   ]
  },
  {
   "cell_type": "code",
   "execution_count": 51,
   "metadata": {},
   "outputs": [],
   "source": [
    "speaker_attributes = speaker_attributes.drop(labels='candidacy', axis=1)"
   ]
  },
  {
   "cell_type": "code",
   "execution_count": 52,
   "metadata": {},
   "outputs": [
    {
     "data": {
      "text/html": [
       "<div>\n",
       "<style scoped>\n",
       "    .dataframe tbody tr th:only-of-type {\n",
       "        vertical-align: middle;\n",
       "    }\n",
       "\n",
       "    .dataframe tbody tr th {\n",
       "        vertical-align: top;\n",
       "    }\n",
       "\n",
       "    .dataframe thead th {\n",
       "        text-align: right;\n",
       "    }\n",
       "</style>\n",
       "<table border=\"1\" class=\"dataframe\">\n",
       "  <thead>\n",
       "    <tr style=\"text-align: right;\">\n",
       "      <th></th>\n",
       "      <th>id</th>\n",
       "      <th>label</th>\n",
       "      <th>party</th>\n",
       "      <th>nationality</th>\n",
       "      <th>gender</th>\n",
       "      <th>ethnic_group</th>\n",
       "      <th>occupation</th>\n",
       "      <th>religion</th>\n",
       "      <th>birth_year</th>\n",
       "      <th>highest_degree</th>\n",
       "    </tr>\n",
       "  </thead>\n",
       "  <tbody>\n",
       "    <tr>\n",
       "      <th>0</th>\n",
       "      <td>Q23</td>\n",
       "      <td>George Washington</td>\n",
       "      <td>Q327591</td>\n",
       "      <td>Q30</td>\n",
       "      <td>Q6581097</td>\n",
       "      <td>None</td>\n",
       "      <td>Q82955</td>\n",
       "      <td>Q682443</td>\n",
       "      <td>1732</td>\n",
       "      <td>None</td>\n",
       "    </tr>\n",
       "    <tr>\n",
       "      <th>1</th>\n",
       "      <td>Q42</td>\n",
       "      <td>Douglas Adams</td>\n",
       "      <td>None</td>\n",
       "      <td>Q145</td>\n",
       "      <td>Q6581097</td>\n",
       "      <td>Q7994501</td>\n",
       "      <td>Q214917</td>\n",
       "      <td>None</td>\n",
       "      <td>1952</td>\n",
       "      <td>None</td>\n",
       "    </tr>\n",
       "    <tr>\n",
       "      <th>2</th>\n",
       "      <td>Q1868</td>\n",
       "      <td>Paul Otlet</td>\n",
       "      <td>None</td>\n",
       "      <td>Q31</td>\n",
       "      <td>Q6581097</td>\n",
       "      <td>None</td>\n",
       "      <td>Q36180</td>\n",
       "      <td>None</td>\n",
       "      <td>1868</td>\n",
       "      <td>None</td>\n",
       "    </tr>\n",
       "    <tr>\n",
       "      <th>3</th>\n",
       "      <td>Q207</td>\n",
       "      <td>George W. Bush</td>\n",
       "      <td>Q29468</td>\n",
       "      <td>Q30</td>\n",
       "      <td>Q6581097</td>\n",
       "      <td>None</td>\n",
       "      <td>Q82955</td>\n",
       "      <td>Q329646</td>\n",
       "      <td>1946</td>\n",
       "      <td>None</td>\n",
       "    </tr>\n",
       "    <tr>\n",
       "      <th>4</th>\n",
       "      <td>Q297</td>\n",
       "      <td>Diego Velázquez</td>\n",
       "      <td>None</td>\n",
       "      <td>Q29</td>\n",
       "      <td>Q6581097</td>\n",
       "      <td>None</td>\n",
       "      <td>Q1028181</td>\n",
       "      <td>None</td>\n",
       "      <td>1599</td>\n",
       "      <td>None</td>\n",
       "    </tr>\n",
       "  </tbody>\n",
       "</table>\n",
       "</div>"
      ],
      "text/plain": [
       "      id              label    party nationality    gender ethnic_group  \\\n",
       "0    Q23  George Washington  Q327591         Q30  Q6581097         None   \n",
       "1    Q42      Douglas Adams     None        Q145  Q6581097     Q7994501   \n",
       "2  Q1868         Paul Otlet     None         Q31  Q6581097         None   \n",
       "3   Q207     George W. Bush   Q29468         Q30  Q6581097         None   \n",
       "4   Q297    Diego Velázquez     None         Q29  Q6581097         None   \n",
       "\n",
       "  occupation religion birth_year highest_degree  \n",
       "0     Q82955  Q682443       1732           None  \n",
       "1    Q214917     None       1952           None  \n",
       "2     Q36180     None       1868           None  \n",
       "3     Q82955  Q329646       1946           None  \n",
       "4   Q1028181     None       1599           None  "
      ]
     },
     "execution_count": 52,
     "metadata": {},
     "output_type": "execute_result"
    }
   ],
   "source": [
    "speaker_attributes.head()"
   ]
  },
  {
   "cell_type": "markdown",
   "metadata": {},
   "source": [
    "### Finally, our *speaker_attributes* is ready to go, let's apply the *search_label* function to link the content to the QID in *speaker_attributes*  to check if it's working alright."
   ]
  },
  {
   "cell_type": "code",
   "execution_count": 53,
   "metadata": {},
   "outputs": [
    {
     "data": {
      "text/plain": [
       "0           politician\n",
       "1           playwright\n",
       "2               writer\n",
       "3           politician\n",
       "4              painter\n",
       "5     military officer\n",
       "6                 poet\n",
       "7           astronomer\n",
       "8               singer\n",
       "9         photographer\n",
       "10          playwright\n",
       "Name: occupation, dtype: object"
      ]
     },
     "execution_count": 53,
     "metadata": {},
     "output_type": "execute_result"
    }
   ],
   "source": [
    "speaker_attributes.loc[:10,'occupation'].apply(search_label)"
   ]
  },
  {
   "cell_type": "markdown",
   "metadata": {},
   "source": [
    "-----"
   ]
  },
  {
   "cell_type": "markdown",
   "metadata": {},
   "source": [
    "### Incident:\n",
    "\n",
    "while we work on the dataset, we found out that, in fuction *clean_quotebank* at the very beginning, we made a mistake of only keeping the first qid of the speaker, since there's a possibility of duplicate names. Thus, we use the speakers' name to search for all their qid in the given xxx file, and build up a filter based on thier born year, which is performed following the method below:\n",
    "1. for each quotation, extract the year of the quotation\n",
    "2. suppose that the speaker's age is between 20 and 90 when the quotation has been made\n",
    "3. substract 20/90 to get the possible born year range of the speaker\n",
    "4. select the qid among all the qid candidates whose born year is within the range, if there are multiple, then select the first one with a its *party* not *None*\n",
    "\n",
    "P.S. Cases of duplicate names are not dominant, which will not significantly affect our results"
   ]
  },
  {
   "cell_type": "markdown",
   "metadata": {},
   "source": [
    "below is our remedy of the issue, this part of code was originally run on other computer and took a relatively long time. Therefore, we just peresent the code but won't run it here again, instead, we directly load in the processed data"
   ]
  },
  {
   "cell_type": "code",
   "execution_count": 57,
   "metadata": {},
   "outputs": [],
   "source": [
    "# load in and merge all valid quotes\n",
    "import os\n",
    "quo_data = []\n",
    "import pickle5 as pickle\n",
    "for i,v in enumerate(os.listdir('Sentiment')):\n",
    "    if not v.endswith('txt'):\n",
    "        with open(os.path.join('Sentiment',v),'rb') as f:\n",
    "            tmp_data = pickle.load(f)\n",
    "#         tmp_data = pd.read_pickle(os.path.join('Sentiment',v))\n",
    "        quo_data.append(tmp_data)\n",
    "quo_data = pd.concat(quo_data,axis=0)"
   ]
  },
  {
   "cell_type": "code",
   "execution_count": 58,
   "metadata": {},
   "outputs": [
    {
     "data": {
      "text/plain": [
       "(658629, 9)"
      ]
     },
     "execution_count": 58,
     "metadata": {},
     "output_type": "execute_result"
    }
   ],
   "source": [
    "quo_data.shape"
   ]
  },
  {
   "cell_type": "code",
   "execution_count": 59,
   "metadata": {},
   "outputs": [],
   "source": [
    "def search_label(qid: str, labels: pd.DataFrame = wiki_label) -> str:\n",
    "    \"\"\"Search for the label of a given qid\n",
    "    \"\"\"\n",
    "    try:\n",
    "        label = labels[labels['QID'] == qid]['Label'].values[0]\n",
    "    except:\n",
    "        label = None\n",
    "    return label"
   ]
  },
  {
   "cell_type": "code",
   "execution_count": 60,
   "metadata": {},
   "outputs": [],
   "source": [
    "def search_qids(label: str, labels: pd.DataFrame = wiki_label) -> str:\n",
    "    \"\"\"Search for the qid of a given label\n",
    "    \"\"\"\n",
    "    try:\n",
    "        label = labels[labels['Label'] == label]['QID'].values\n",
    "    except:\n",
    "        label = None\n",
    "    return label"
   ]
  },
  {
   "cell_type": "code",
   "execution_count": null,
   "metadata": {},
   "outputs": [],
   "source": [
    "wiki_label = pd.read_csv('wikidata_labels_descriptions_quotebank.csv.bz2')"
   ]
  },
  {
   "cell_type": "code",
   "execution_count": null,
   "metadata": {},
   "outputs": [],
   "source": [
    "wiki_label_ = pd.read_pickle('speaker_attributes.pkl')"
   ]
  },
  {
   "cell_type": "code",
   "execution_count": null,
   "metadata": {},
   "outputs": [],
   "source": [
    "data = pd.merge(quo_data, wiki_label_, on='id', how='inner')"
   ]
  },
  {
   "cell_type": "code",
   "execution_count": null,
   "metadata": {},
   "outputs": [],
   "source": [
    "data_birth = data[~data.birth_year.isna()]\n",
    "data_birth.birth_year = data_birth.birth_year.astype('int')"
   ]
  },
  {
   "cell_type": "code",
   "execution_count": null,
   "metadata": {},
   "outputs": [],
   "source": [
    "anomaly = data_birth[data_birth.birth_year < 1900][['id', 'speaker', 'quotation', 'birth_year', 'date']]\n",
    "anomaly.drop_duplicates(subset=['speaker'])\n",
    "anomaly.speaker = anomaly.speaker.apply(lambda x: x.title())"
   ]
  },
  {
   "cell_type": "code",
   "execution_count": null,
   "metadata": {},
   "outputs": [],
   "source": [
    "def find_proper_qid(speaker, date, id):\n",
    "    speakers = wiki_label_[wiki_label_.label == speaker]\n",
    "    speakers = speakers[~speakers.birth_year.isna()]\n",
    "    quote_year = int(re.compile(r'\\d{4}').findall(date)[0])\n",
    "    if speakers.shape[0] >= 2:\n",
    "        try:\n",
    "            speaker_ = speakers[(speakers.birth_year.astype('int') >= (quote_year - 90)) & (speakers.birth_year.astype('int') <= (quote_year - 20))]\n",
    "            if speaker_.shape[0] >= 1:\n",
    "                speaker_p = speaker_[~speaker_.party.isna()]\n",
    "                if speaker_p.shape[0] == 0:\n",
    "                    qid = speaker_.id.values[0]\n",
    "                else:\n",
    "                    qid = speaker_p.id.values[0]\n",
    "            qid = speaker_.id.values[0]\n",
    "        except:\n",
    "            speaker_ = speaker\n",
    "            qid = id\n",
    "        return qid\n",
    "    else:\n",
    "        return id"
   ]
  },
  {
   "cell_type": "code",
   "execution_count": null,
   "metadata": {},
   "outputs": [],
   "source": [
    "speakers = anomaly.drop_duplicates(subset=['speaker'])"
   ]
  },
  {
   "cell_type": "code",
   "execution_count": null,
   "metadata": {},
   "outputs": [],
   "source": [
    "better_qid = pd.DataFrame(columns=['speaker', 'id'])\n",
    "for i in tqdm(range(len(speakers))):\n",
    "    qid = find_proper_qid(speakers.speaker.iloc[i], speakers.date.iloc[i], speakers.id.iloc[i])\n",
    "    tmp = {'speaker': speakers.speaker.iloc[i], 'id': qid}\n",
    "    better_qid = better_qid.append([tmp], ignore_index=True)"
   ]
  },
  {
   "cell_type": "code",
   "execution_count": null,
   "metadata": {},
   "outputs": [],
   "source": [
    "quo_data.speaker = quo_data.speaker.apply(lambda x: x.title())"
   ]
  },
  {
   "cell_type": "code",
   "execution_count": null,
   "metadata": {},
   "outputs": [],
   "source": [
    "better_ = quo_data[quo_data.speaker.isin(better_qid.speaker)][['speaker', 'id']].sort_values('speaker').merge(better_qid, on='speaker')"
   ]
  },
  {
   "cell_type": "code",
   "execution_count": null,
   "metadata": {},
   "outputs": [],
   "source": [
    "better_.drop_duplicates(subset=['speaker'])"
   ]
  },
  {
   "cell_type": "code",
   "execution_count": null,
   "metadata": {},
   "outputs": [],
   "source": [
    "better_dict = dict(zip(better_.id_x, better_.id_y))"
   ]
  },
  {
   "cell_type": "code",
   "execution_count": null,
   "metadata": {},
   "outputs": [],
   "source": [
    "quo_data['id'] = quo_data['id'].replace(better_dict)"
   ]
  },
  {
   "cell_type": "code",
   "execution_count": 63,
   "metadata": {},
   "outputs": [],
   "source": [
    "# here we directly load the processed data  \n",
    "quo_data = pd.read_csv('quo_data.csv')"
   ]
  },
  {
   "cell_type": "code",
   "execution_count": 64,
   "metadata": {},
   "outputs": [
    {
     "data": {
      "text/html": [
       "<div>\n",
       "<style scoped>\n",
       "    .dataframe tbody tr th:only-of-type {\n",
       "        vertical-align: middle;\n",
       "    }\n",
       "\n",
       "    .dataframe tbody tr th {\n",
       "        vertical-align: top;\n",
       "    }\n",
       "\n",
       "    .dataframe thead th {\n",
       "        text-align: right;\n",
       "    }\n",
       "</style>\n",
       "<table border=\"1\" class=\"dataframe\">\n",
       "  <thead>\n",
       "    <tr style=\"text-align: right;\">\n",
       "      <th></th>\n",
       "      <th>Unnamed: 0</th>\n",
       "      <th>quoteID</th>\n",
       "      <th>quotation</th>\n",
       "      <th>date</th>\n",
       "      <th>numOccurrences</th>\n",
       "      <th>speaker</th>\n",
       "      <th>id</th>\n",
       "      <th>is_climate</th>\n",
       "      <th>Score</th>\n",
       "      <th>Sentiment</th>\n",
       "    </tr>\n",
       "  </thead>\n",
       "  <tbody>\n",
       "    <tr>\n",
       "      <th>0</th>\n",
       "      <td>86</td>\n",
       "      <td>2020-01-24-004182</td>\n",
       "      <td>Also, spoke about a range of emerging sectors ...</td>\n",
       "      <td>2020-01-24</td>\n",
       "      <td>2</td>\n",
       "      <td>Piyush Goyal</td>\n",
       "      <td>Q7199798</td>\n",
       "      <td>['renewable energy']</td>\n",
       "      <td>0.5574</td>\n",
       "      <td>POSITIVE</td>\n",
       "    </tr>\n",
       "    <tr>\n",
       "      <th>1</th>\n",
       "      <td>419</td>\n",
       "      <td>2020-02-24-013709</td>\n",
       "      <td>For every doubling of carbon dioxide concentra...</td>\n",
       "      <td>2020-02-24</td>\n",
       "      <td>1</td>\n",
       "      <td>E. Calvin Beisner</td>\n",
       "      <td>Q19877395</td>\n",
       "      <td>['carbon dioxide']</td>\n",
       "      <td>0.9042</td>\n",
       "      <td>POSITIVE</td>\n",
       "    </tr>\n",
       "    <tr>\n",
       "      <th>2</th>\n",
       "      <td>1223</td>\n",
       "      <td>2020-01-29-062975</td>\n",
       "      <td>Many make the link today between their experie...</td>\n",
       "      <td>2020-01-29</td>\n",
       "      <td>5</td>\n",
       "      <td>Peter Maurer</td>\n",
       "      <td>Q117796</td>\n",
       "      <td>['climate']</td>\n",
       "      <td>-0.7579</td>\n",
       "      <td>NEGATIVE</td>\n",
       "    </tr>\n",
       "    <tr>\n",
       "      <th>3</th>\n",
       "      <td>1456</td>\n",
       "      <td>2020-03-05-054864</td>\n",
       "      <td>Riding responsibly is one of the core ethos of...</td>\n",
       "      <td>2020-03-05</td>\n",
       "      <td>1</td>\n",
       "      <td>Ashish Singh</td>\n",
       "      <td>Q21622888</td>\n",
       "      <td>['emission']</td>\n",
       "      <td>0.8442</td>\n",
       "      <td>POSITIVE</td>\n",
       "    </tr>\n",
       "    <tr>\n",
       "      <th>4</th>\n",
       "      <td>1513</td>\n",
       "      <td>2020-01-17-068930</td>\n",
       "      <td>Single crusades in Australia will have absolut...</td>\n",
       "      <td>2020-01-17</td>\n",
       "      <td>7</td>\n",
       "      <td>Barnaby Joyce</td>\n",
       "      <td>Q4861362</td>\n",
       "      <td>['climate']</td>\n",
       "      <td>0.0000</td>\n",
       "      <td>NEUTRAL</td>\n",
       "    </tr>\n",
       "  </tbody>\n",
       "</table>\n",
       "</div>"
      ],
      "text/plain": [
       "   Unnamed: 0            quoteID  \\\n",
       "0          86  2020-01-24-004182   \n",
       "1         419  2020-02-24-013709   \n",
       "2        1223  2020-01-29-062975   \n",
       "3        1456  2020-03-05-054864   \n",
       "4        1513  2020-01-17-068930   \n",
       "\n",
       "                                           quotation        date  \\\n",
       "0  Also, spoke about a range of emerging sectors ...  2020-01-24   \n",
       "1  For every doubling of carbon dioxide concentra...  2020-02-24   \n",
       "2  Many make the link today between their experie...  2020-01-29   \n",
       "3  Riding responsibly is one of the core ethos of...  2020-03-05   \n",
       "4  Single crusades in Australia will have absolut...  2020-01-17   \n",
       "\n",
       "   numOccurrences            speaker         id            is_climate   Score  \\\n",
       "0               2       Piyush Goyal   Q7199798  ['renewable energy']  0.5574   \n",
       "1               1  E. Calvin Beisner  Q19877395    ['carbon dioxide']  0.9042   \n",
       "2               5       Peter Maurer    Q117796           ['climate'] -0.7579   \n",
       "3               1       Ashish Singh  Q21622888          ['emission']  0.8442   \n",
       "4               7      Barnaby Joyce   Q4861362           ['climate']  0.0000   \n",
       "\n",
       "  Sentiment  \n",
       "0  POSITIVE  \n",
       "1  POSITIVE  \n",
       "2  NEGATIVE  \n",
       "3  POSITIVE  \n",
       "4   NEUTRAL  "
      ]
     },
     "execution_count": 64,
     "metadata": {},
     "output_type": "execute_result"
    }
   ],
   "source": [
    "quo_data.head()"
   ]
  },
  {
   "cell_type": "markdown",
   "metadata": {},
   "source": [
    "### Now we have the reasonable qid of each speaker!"
   ]
  },
  {
   "cell_type": "markdown",
   "metadata": {},
   "source": [
    "-------------"
   ]
  },
  {
   "cell_type": "markdown",
   "metadata": {},
   "source": [
    "### Merge the quotes data and speaker attributes to form a complete dataframe"
   ]
  },
  {
   "cell_type": "code",
   "execution_count": 65,
   "metadata": {},
   "outputs": [],
   "source": [
    "speaker_attributes = pd.read_csv(r'./Wiki/speaker_attributes.csv')"
   ]
  },
  {
   "cell_type": "code",
   "execution_count": 66,
   "metadata": {},
   "outputs": [],
   "source": [
    "speaker_attributes.drop(['Unnamed: 0'],axis=1,inplace=True)"
   ]
  },
  {
   "cell_type": "code",
   "execution_count": 303,
   "metadata": {},
   "outputs": [],
   "source": [
    "data = pd.merge(quo_data,speaker_attributes,on='id',how='inner')\n",
    "data.drop(['label'], axis=1, inplace=True)"
   ]
  },
  {
   "cell_type": "code",
   "execution_count": 304,
   "metadata": {},
   "outputs": [
    {
     "data": {
      "text/plain": [
       "(658629, 10)"
      ]
     },
     "execution_count": 304,
     "metadata": {},
     "output_type": "execute_result"
    }
   ],
   "source": [
    "quo_data.shape"
   ]
  },
  {
   "cell_type": "code",
   "execution_count": 305,
   "metadata": {},
   "outputs": [
    {
     "data": {
      "text/plain": [
       "(654129, 18)"
      ]
     },
     "execution_count": 305,
     "metadata": {},
     "output_type": "execute_result"
    }
   ],
   "source": [
    "data.shape"
   ]
  },
  {
   "cell_type": "markdown",
   "metadata": {},
   "source": [
    "4500 quotations are filtered, now there are 654129 valid quotations for the analysis"
   ]
  },
  {
   "cell_type": "markdown",
   "metadata": {},
   "source": [
    "now we replace the qids in the dataframe with its real textual content"
   ]
  },
  {
   "cell_type": "code",
   "execution_count": 306,
   "metadata": {},
   "outputs": [],
   "source": [
    "def replace_qid(col_name: str):\n",
    "    qid = data[col_name].value_counts().index.to_series()\n",
    "    label = qid.apply(search_label)\n",
    "    dic = pd.concat([qid,label],ignore_index=True,axis=1).set_index(0).T.to_dict('list')\n",
    "    data[col_name].replace(dic,inplace=True)"
   ]
  },
  {
   "cell_type": "code",
   "execution_count": 307,
   "metadata": {},
   "outputs": [],
   "source": [
    "char_list = ['party','nationality','gender','ethnic_group','occupation','religion']\n",
    "for col in char_list:\n",
    "    replace_qid(col)"
   ]
  },
  {
   "cell_type": "markdown",
   "metadata": {},
   "source": [
    "we calculate the *age* of the speaker by substracting *birth_year* from *date*"
   ]
  },
  {
   "cell_type": "code",
   "execution_count": 308,
   "metadata": {},
   "outputs": [],
   "source": [
    "data['date'] = data['date'].apply(lambda x: int(re.compile(r'\\d{4}').findall(x)[0]))\n",
    "data['age'] = data['date'] - data['birth_year']"
   ]
  },
  {
   "cell_type": "code",
   "execution_count": 309,
   "metadata": {},
   "outputs": [
    {
     "data": {
      "text/html": [
       "<div>\n",
       "<style scoped>\n",
       "    .dataframe tbody tr th:only-of-type {\n",
       "        vertical-align: middle;\n",
       "    }\n",
       "\n",
       "    .dataframe tbody tr th {\n",
       "        vertical-align: top;\n",
       "    }\n",
       "\n",
       "    .dataframe thead th {\n",
       "        text-align: right;\n",
       "    }\n",
       "</style>\n",
       "<table border=\"1\" class=\"dataframe\">\n",
       "  <thead>\n",
       "    <tr style=\"text-align: right;\">\n",
       "      <th></th>\n",
       "      <th>Unnamed: 0</th>\n",
       "      <th>quoteID</th>\n",
       "      <th>quotation</th>\n",
       "      <th>date</th>\n",
       "      <th>numOccurrences</th>\n",
       "      <th>speaker</th>\n",
       "      <th>id</th>\n",
       "      <th>is_climate</th>\n",
       "      <th>Score</th>\n",
       "      <th>Sentiment</th>\n",
       "      <th>party</th>\n",
       "      <th>nationality</th>\n",
       "      <th>gender</th>\n",
       "      <th>ethnic_group</th>\n",
       "      <th>occupation</th>\n",
       "      <th>religion</th>\n",
       "      <th>birth_year</th>\n",
       "      <th>highest_degree</th>\n",
       "      <th>age</th>\n",
       "    </tr>\n",
       "  </thead>\n",
       "  <tbody>\n",
       "    <tr>\n",
       "      <th>0</th>\n",
       "      <td>86</td>\n",
       "      <td>2020-01-24-004182</td>\n",
       "      <td>Also, spoke about a range of emerging sectors ...</td>\n",
       "      <td>2020</td>\n",
       "      <td>2</td>\n",
       "      <td>Piyush Goyal</td>\n",
       "      <td>Q7199798</td>\n",
       "      <td>['renewable energy']</td>\n",
       "      <td>0.5574</td>\n",
       "      <td>POSITIVE</td>\n",
       "      <td>Bharatiya Janata Party</td>\n",
       "      <td>India</td>\n",
       "      <td>male</td>\n",
       "      <td>NaN</td>\n",
       "      <td>politician</td>\n",
       "      <td>Hinduism</td>\n",
       "      <td>1964.0</td>\n",
       "      <td>NaN</td>\n",
       "      <td>56.0</td>\n",
       "    </tr>\n",
       "    <tr>\n",
       "      <th>1</th>\n",
       "      <td>660572</td>\n",
       "      <td>2020-01-21-092711</td>\n",
       "      <td>We are like a pivot for the Indian Ocean and w...</td>\n",
       "      <td>2020</td>\n",
       "      <td>1</td>\n",
       "      <td>Piyush Goyal</td>\n",
       "      <td>Q7199798</td>\n",
       "      <td>['climate', 'climate']</td>\n",
       "      <td>0.9020</td>\n",
       "      <td>POSITIVE</td>\n",
       "      <td>Bharatiya Janata Party</td>\n",
       "      <td>India</td>\n",
       "      <td>male</td>\n",
       "      <td>NaN</td>\n",
       "      <td>politician</td>\n",
       "      <td>Hinduism</td>\n",
       "      <td>1964.0</td>\n",
       "      <td>NaN</td>\n",
       "      <td>56.0</td>\n",
       "    </tr>\n",
       "    <tr>\n",
       "      <th>2</th>\n",
       "      <td>1308318</td>\n",
       "      <td>2020-01-19-047177</td>\n",
       "      <td>U.S. President Donald Trump, German Chancellor...</td>\n",
       "      <td>2020</td>\n",
       "      <td>1</td>\n",
       "      <td>Piyush Goyal</td>\n",
       "      <td>Q7199798</td>\n",
       "      <td>['climate']</td>\n",
       "      <td>-0.2411</td>\n",
       "      <td>NEGATIVE</td>\n",
       "      <td>Bharatiya Janata Party</td>\n",
       "      <td>India</td>\n",
       "      <td>male</td>\n",
       "      <td>NaN</td>\n",
       "      <td>politician</td>\n",
       "      <td>Hinduism</td>\n",
       "      <td>1964.0</td>\n",
       "      <td>NaN</td>\n",
       "      <td>56.0</td>\n",
       "    </tr>\n",
       "    <tr>\n",
       "      <th>3</th>\n",
       "      <td>1884585</td>\n",
       "      <td>2020-01-28-105760</td>\n",
       "      <td>We will have no emission from the railways, it...</td>\n",
       "      <td>2020</td>\n",
       "      <td>1</td>\n",
       "      <td>Piyush Goyal</td>\n",
       "      <td>Q7199798</td>\n",
       "      <td>['emission', 'clean energy']</td>\n",
       "      <td>0.6486</td>\n",
       "      <td>POSITIVE</td>\n",
       "      <td>Bharatiya Janata Party</td>\n",
       "      <td>India</td>\n",
       "      <td>male</td>\n",
       "      <td>NaN</td>\n",
       "      <td>politician</td>\n",
       "      <td>Hinduism</td>\n",
       "      <td>1964.0</td>\n",
       "      <td>NaN</td>\n",
       "      <td>56.0</td>\n",
       "    </tr>\n",
       "    <tr>\n",
       "      <th>4</th>\n",
       "      <td>1938413</td>\n",
       "      <td>2020-01-21-092710</td>\n",
       "      <td>We are like a pivot for the Indian Ocean and w...</td>\n",
       "      <td>2020</td>\n",
       "      <td>2</td>\n",
       "      <td>Piyush Goyal</td>\n",
       "      <td>Q7199798</td>\n",
       "      <td>['climate']</td>\n",
       "      <td>0.5859</td>\n",
       "      <td>POSITIVE</td>\n",
       "      <td>Bharatiya Janata Party</td>\n",
       "      <td>India</td>\n",
       "      <td>male</td>\n",
       "      <td>NaN</td>\n",
       "      <td>politician</td>\n",
       "      <td>Hinduism</td>\n",
       "      <td>1964.0</td>\n",
       "      <td>NaN</td>\n",
       "      <td>56.0</td>\n",
       "    </tr>\n",
       "  </tbody>\n",
       "</table>\n",
       "</div>"
      ],
      "text/plain": [
       "   Unnamed: 0            quoteID  \\\n",
       "0          86  2020-01-24-004182   \n",
       "1      660572  2020-01-21-092711   \n",
       "2     1308318  2020-01-19-047177   \n",
       "3     1884585  2020-01-28-105760   \n",
       "4     1938413  2020-01-21-092710   \n",
       "\n",
       "                                           quotation  date  numOccurrences  \\\n",
       "0  Also, spoke about a range of emerging sectors ...  2020               2   \n",
       "1  We are like a pivot for the Indian Ocean and w...  2020               1   \n",
       "2  U.S. President Donald Trump, German Chancellor...  2020               1   \n",
       "3  We will have no emission from the railways, it...  2020               1   \n",
       "4  We are like a pivot for the Indian Ocean and w...  2020               2   \n",
       "\n",
       "        speaker        id                    is_climate   Score Sentiment  \\\n",
       "0  Piyush Goyal  Q7199798          ['renewable energy']  0.5574  POSITIVE   \n",
       "1  Piyush Goyal  Q7199798        ['climate', 'climate']  0.9020  POSITIVE   \n",
       "2  Piyush Goyal  Q7199798                   ['climate'] -0.2411  NEGATIVE   \n",
       "3  Piyush Goyal  Q7199798  ['emission', 'clean energy']  0.6486  POSITIVE   \n",
       "4  Piyush Goyal  Q7199798                   ['climate']  0.5859  POSITIVE   \n",
       "\n",
       "                    party nationality gender ethnic_group  occupation  \\\n",
       "0  Bharatiya Janata Party       India   male          NaN  politician   \n",
       "1  Bharatiya Janata Party       India   male          NaN  politician   \n",
       "2  Bharatiya Janata Party       India   male          NaN  politician   \n",
       "3  Bharatiya Janata Party       India   male          NaN  politician   \n",
       "4  Bharatiya Janata Party       India   male          NaN  politician   \n",
       "\n",
       "   religion  birth_year highest_degree   age  \n",
       "0  Hinduism      1964.0            NaN  56.0  \n",
       "1  Hinduism      1964.0            NaN  56.0  \n",
       "2  Hinduism      1964.0            NaN  56.0  \n",
       "3  Hinduism      1964.0            NaN  56.0  \n",
       "4  Hinduism      1964.0            NaN  56.0  "
      ]
     },
     "execution_count": 309,
     "metadata": {},
     "output_type": "execute_result"
    }
   ],
   "source": [
    "data.head()"
   ]
  },
  {
   "cell_type": "markdown",
   "metadata": {},
   "source": [
    "### Now the *data* contains all the useful information and is ready to go! \n",
    "\n",
    "### In the following analysis, we try to answer our question: How do politicians’ demographic factors affect their attitudes to climate change?"
   ]
  },
  {
   "cell_type": "markdown",
   "metadata": {},
   "source": [
    "### Firstly we get an overview of the distribution of the politicians’ demographic factors"
   ]
  },
  {
   "cell_type": "markdown",
   "metadata": {},
   "source": [
    "check the missing value of each column"
   ]
  },
  {
   "cell_type": "code",
   "execution_count": 74,
   "metadata": {},
   "outputs": [
    {
     "name": "stdout",
     "output_type": "stream",
     "text": [
      "416356 out of 654129 quotations (63.7%) are missing in party column\n",
      "118540 out of 654129 quotations (18.1%) are missing in nationality column\n",
      "13507 out of 654129 quotations (2.1%) are missing in gender column\n",
      "596883 out of 654129 quotations (91.2%) are missing in ethnic_group column\n",
      "23872 out of 654129 quotations (3.6%) are missing in occupation column\n",
      "525387 out of 654129 quotations (80.3%) are missing in religion column\n",
      "95535 out of 654129 quotations (14.6%) are missing in birth_year column\n",
      "598038 out of 654129 quotations (91.4%) are missing in highest_degree column\n"
     ]
    }
   ],
   "source": [
    "for char in ['party','nationality','gender','ethnic_group','occupation','religion','birth_year','highest_degree']:\n",
    "    missing = data[char].isna().sum()\n",
    "    print('%d out of %d quotations (%.1f%%) are missing in ' % (missing, len(data), missing/len(data)*100)+char+' column')"
   ]
  },
  {
   "cell_type": "markdown",
   "metadata": {},
   "source": [
    "As there are too many missing values in *party*, *ethnic_group*, *religion*, *highest_degree* column, which might weaken the interpretability and result in fallacy"
   ]
  },
  {
   "cell_type": "code",
   "execution_count": 75,
   "metadata": {},
   "outputs": [],
   "source": [
    "def get_discription(col: str):\n",
    "    print('---------------',col,'---------------')\n",
    "    count = data[col].value_counts()\n",
    "    length = len(count)\n",
    "    merge = pd.concat([count,count/count.sum()*100],axis=1)\n",
    "    merge.columns = ['count','percent']\n",
    "    print('There are %d different ' % (length) +col)\n",
    "    print('Top Ones')\n",
    "    print(merge[:5])"
   ]
  },
  {
   "cell_type": "code",
   "execution_count": 76,
   "metadata": {},
   "outputs": [
    {
     "name": "stdout",
     "output_type": "stream",
     "text": [
      "--------------- party ---------------\n",
      "There are 1314 different party\n",
      "Top Ones\n",
      "                            count    percent\n",
      "Democratic Party            83750  35.222670\n",
      "Republican Party            40139  16.881227\n",
      "Australian Labor Party       7304   3.071837\n",
      "Labour Party                 6484   2.726971\n",
      "Liberal Party of Australia   5658   2.379581\n",
      "--------------- nationality ---------------\n",
      "There are 312 different nationality\n",
      "Top Ones\n",
      "                           count    percent\n",
      "United States of America  248733  46.441021\n",
      "United Kingdom             79039  14.757398\n",
      "Australia                  34755   6.489118\n",
      "Canada                     32801   6.124286\n",
      "India                      15331   2.862456\n",
      "--------------- gender ---------------\n",
      "There are 12 different gender\n",
      "Top Ones\n",
      "                     count    percent\n",
      "male                531054  82.896622\n",
      "female              109208  17.047182\n",
      "transgender female     176   0.027473\n",
      "non-binary             112   0.017483\n",
      "genderfluid             32   0.004995\n",
      "--------------- ethnic_group ---------------\n",
      "There are 347 different ethnic_group\n",
      "Top Ones\n",
      "                   count    percent\n",
      "African Americans  25058  43.772491\n",
      "Jewish people       5660   9.887154\n",
      "Koreans             2923   5.106034\n",
      "Italian American    1885   3.292806\n",
      "Gujarati people     1636   2.857842\n",
      "--------------- occupation ---------------\n",
      "There are 1603 different occupation\n",
      "Top Ones\n",
      "                              count    percent\n",
      "politician                   185864  29.490192\n",
      "researcher                    35504   5.633258\n",
      "association football player   19951   3.165534\n",
      "actor                         19525   3.097943\n",
      "journalist                    18747   2.974501\n",
      "--------------- religion ---------------\n",
      "There are 192 different religion\n",
      "Top Ones\n",
      "                 count    percent\n",
      "Catholic Church  17165  13.332867\n",
      "Catholicism      17161  13.329760\n",
      "Protestantism    17149  13.320439\n",
      "Judaism           9021   7.007037\n",
      "Baptists          6366   4.944773\n",
      "--------------- highest_degree ---------------\n",
      "There are 3 different highest_degree\n",
      "Top Ones\n",
      "          count    percent\n",
      "Doctor    41816  74.550284\n",
      "Bachelor  12562  22.395750\n",
      "Master     1713   3.053966\n"
     ]
    }
   ],
   "source": [
    "for char in ['party','nationality','gender','ethnic_group','occupation','religion','highest_degree']:\n",
    "    get_discription(char)"
   ]
  },
  {
   "cell_type": "markdown",
   "metadata": {},
   "source": [
    "We can see that there are about 1400 different parties. Most of the quotations come from Democratic Party (35%) and Republican Party (17%) in the U.S.\n",
    "Similarly, male american politicians dominate our dataset"
   ]
  },
  {
   "cell_type": "code",
   "execution_count": 77,
   "metadata": {},
   "outputs": [
    {
     "data": {
      "image/png": "[encoded data removed]",
      "text/plain": [
       "<Figure size 864x576 with 6 Axes>"
      ]
     },
     "metadata": {
      "needs_background": "light"
     },
     "output_type": "display_data"
    }
   ],
   "source": [
    "# plot distribution\n",
    "fig, axes = plt.subplots(nrows=2, ncols=3, figsize=(12, 8))\n",
    "for idx, char in enumerate(['party','nationality','gender','ethnic_group','occupation','religion']):\n",
    "    ax = axes[int(idx/3), idx%3]\n",
    "    ax.semilogy(data[char].value_counts().values)\n",
    "    ax.set_title(char+' distribution')\n",
    "    ax.set_xlabel(char+' (denote as serial number)')\n",
    "fig.text(-0.01, 0.5, 'quotes count', va='center', rotation='vertical',fontsize=15)\n",
    "fig.text(0.3, 1, 'How many quotations there are in each category', va='center',fontsize=15)\n",
    "fig.tight_layout()"
   ]
  },
  {
   "cell_type": "markdown",
   "metadata": {},
   "source": [
    "These attributes all follow a power law distrubution, most of the speaker of quotations belong to a few major categories."
   ]
  },
  {
   "cell_type": "code",
   "execution_count": 78,
   "metadata": {},
   "outputs": [
    {
     "data": {
      "text/plain": [
       "Text(0, 0.5, 'number of quotes belonging to birth year of speaker (in log)')"
      ]
     },
     "execution_count": 78,
     "metadata": {},
     "output_type": "execute_result"
    },
    {
     "data": {
      "image/png": "[encoded data removed]",
      "text/plain": [
       "<Figure size 432x288 with 1 Axes>"
      ]
     },
     "metadata": {
      "needs_background": "light"
     },
     "output_type": "display_data"
    }
   ],
   "source": [
    "# plot for birth year\n",
    "birth_year = data['birth_year'].value_counts()\n",
    "birth_year = birth_year.sort_index(ascending=False)\n",
    "plt.plot(birth_year.index[:150], birth_year.values[:150])\n",
    "plt.xticks(rotation=90)\n",
    "plt.title('How many quotations are there in each birth year of the speaker')\n",
    "plt.xlabel('birth_year (denote as serial number)')\n",
    "plt.ylabel('number of quotes belonging to birth year of speaker (in log)')"
   ]
  },
  {
   "cell_type": "code",
   "execution_count": 79,
   "metadata": {},
   "outputs": [
    {
     "data": {
      "text/plain": [
       "Text(0, 0.5, 'number of quotes')"
      ]
     },
     "execution_count": 79,
     "metadata": {},
     "output_type": "execute_result"
    },
    {
     "data": {
      "image/png": "[encoded data removed]",
      "text/plain": [
       "<Figure size 432x288 with 1 Axes>"
      ]
     },
     "metadata": {
      "needs_background": "light"
     },
     "output_type": "display_data"
    }
   ],
   "source": [
    "# plot for age\n",
    "data[(data['age'] < 100) & (data['age'] > 10)]['age'].hist(bins=40)\n",
    "plt.title('How many quotations are there in each age range of the speaker')\n",
    "plt.xlabel('age')\n",
    "plt.ylabel('number of quotes')"
   ]
  },
  {
   "cell_type": "markdown",
   "metadata": {},
   "source": [
    "Most speakers are between the age 35~65"
   ]
  },
  {
   "cell_type": "code",
   "execution_count": 80,
   "metadata": {},
   "outputs": [
    {
     "data": {
      "text/plain": [
       "Text(0, 0.5, 'number of quotes')"
      ]
     },
     "execution_count": 80,
     "metadata": {},
     "output_type": "execute_result"
    },
    {
     "data": {
      "image/png": "[encoded data removed]",
      "text/plain": [
       "<Figure size 432x288 with 1 Axes>"
      ]
     },
     "metadata": {
      "needs_background": "light"
     },
     "output_type": "display_data"
    }
   ],
   "source": [
    "# plot for highest_degree\n",
    "sns.countplot(x='highest_degree', data=data) \n",
    "plt.title('How many quotations are from speakers of different academic degree')\n",
    "plt.xlabel('highest degree')\n",
    "plt.ylabel('number of quotes')"
   ]
  },
  {
   "cell_type": "markdown",
   "metadata": {},
   "source": [
    "Most of the speakers (with no missing value of 'degree') hold a doctoral degree"
   ]
  },
  {
   "cell_type": "markdown",
   "metadata": {},
   "source": [
    "### Then we perform a naive analysis, calculating and comparing the negative rate of each category of speaker in each attribute (party, nationality, gender, ethnic group, occupation, religion, highest degree)"
   ]
  },
  {
   "cell_type": "markdown",
   "metadata": {},
   "source": [
    "From the analysis above, we know the major categories of each attribute (e.g. Democratic Party and Republican Party are two major categories in *party*). Thus, we only focus on these major categories and compare the negative rate of each category. We draw barplots to visulize it."
   ]
  },
  {
   "cell_type": "code",
   "execution_count": 81,
   "metadata": {},
   "outputs": [],
   "source": [
    "target_dict = {'party':['Democratic Party','Republican Party'], 'nationality':['United States of America','United Kingdom','Australia','Canada'],\\\n",
    "               'gender':['male','female'],'ethnic_group':['African Americans','Jewish people'], \\\n",
    "               'occupation':['politician','researcher','journalist'],'religion':['Catholic Church','Catholicism','Protestantism','Judaism','Baptists','Presbyterianism'], \\\n",
    "                'highest_degree':['Doctor','Master','Bachelor']}"
   ]
  },
  {
   "cell_type": "code",
   "execution_count": 28,
   "metadata": {},
   "outputs": [],
   "source": [
    "# a function to add percentage for hues to bar plots\n",
    "def add_percent(Number_of_categories,ax):\n",
    "    '''\n",
    "    Add percentage for hues to bar plots\n",
    "    '''\n",
    "    # The bars are created in hue order, organize them\n",
    "    bars = ax.patches\n",
    "    # For each X variable\n",
    "    for ind in range(Number_of_categories):\n",
    "        # Get every hue bar\n",
    "        hueBars=bars[ind:][::Number_of_categories]\n",
    "        # Get the total height (for percentages)\n",
    "        total = sum([x.get_height() for x in hueBars])\n",
    "\n",
    "        # Print the percentage on the bars\n",
    "        for bar in hueBars:\n",
    "            ax.text(bar.get_x() + bar.get_width()/2.,\n",
    "                    bar.get_height(),\n",
    "                    f'{bar.get_height()/total:.0%}',\n",
    "                    ha=\"center\",va=\"bottom\")"
   ]
  },
  {
   "cell_type": "code",
   "execution_count": 94,
   "metadata": {
    "scrolled": false
   },
   "outputs": [
    {
     "data": {
      "image/png": "[encoded data removed]",
      "text/plain": [
       "<Figure size 936x1296 with 8 Axes>"
      ]
     },
     "metadata": {
      "needs_background": "light"
     },
     "output_type": "display_data"
    }
   ],
   "source": [
    "fig, axes = plt.subplots(nrows=4, ncols=2, figsize=(13, 18))\n",
    "for idx, key in enumerate(target_dict):\n",
    "    ax = axes[int(idx/2), idx%2]\n",
    "    filtered_data = data[data[key].isin(target_dict[key])]\n",
    "    sns.countplot(x=key, hue='Sentiment', data=filtered_data, ax=ax, \\\n",
    "                  order=filtered_data[key].value_counts().index, hue_order=['NEGATIVE','NEUTRAL','POSITIVE'])\n",
    "    ax.set_xlabel(\"\")\n",
    "    ax.set_ylabel('quotes count')\n",
    "    ax.tick_params('x', labelrotation=20)\n",
    "    ax.set_title(key)\n",
    "    add_percent(len(target_dict[key]),ax)\n",
    "fig.text(0.3,1, 'Sentiment Distribution among Different Groups', va='center',fontsize=15)\n",
    "# plt.suptitle('Sentiment Distribution among Different Groups',size=12)\n",
    "fig.tight_layout()"
   ]
  },
  {
   "cell_type": "markdown",
   "metadata": {},
   "source": [
    "*Discuss*: There's no significant attitudes difference towards climate change between different parties, countries or genders. However, we can tell from the figure that **Jewish people** (who also mostly believe in Judaism) tend to react negatively towards climate change issue. Also, the negative attitude seems to be more prevalent among **journalists** and people who are **less educated** (with bachelor degree)."
   ]
  },
  {
   "cell_type": "markdown",
   "metadata": {},
   "source": [
    "Then we discuss *age* attribute. It covers a large range because some quotations are from the saying of historical figures, and some are due to wrong duplicate names. Therefore, we only analyze the quotations of people nowadays. Suppose that people are between the age of 20 and 90 when they made the quotation."
   ]
  },
  {
   "cell_type": "code",
   "execution_count": 310,
   "metadata": {},
   "outputs": [
    {
     "data": {
      "text/plain": [
       "<matplotlib.axes._subplots.AxesSubplot at 0x7f76754828d0>"
      ]
     },
     "execution_count": 310,
     "metadata": {},
     "output_type": "execute_result"
    },
    {
     "data": {
      "image/png": "[encoded data removed]",
      "text/plain": [
       "<Figure size 432x288 with 1 Axes>"
      ]
     },
     "metadata": {
      "needs_background": "light"
     },
     "output_type": "display_data"
    }
   ],
   "source": [
    "filtered_data = data[(data['age']<90) & (data['age']>20)]\n",
    "filtered_data['age'].hist(bins=20)"
   ]
  },
  {
   "cell_type": "code",
   "execution_count": 312,
   "metadata": {
    "scrolled": true
   },
   "outputs": [
    {
     "data": {
      "text/plain": [
       "Text(0.5, 1.0, 'Sentiment Distribution among Different Age Groups')"
      ]
     },
     "execution_count": 312,
     "metadata": {},
     "output_type": "execute_result"
    },
    {
     "data": {
      "image/png": "[encoded data removed]",
      "text/plain": [
       "<Figure size 432x288 with 1 Axes>"
      ]
     },
     "metadata": {
      "needs_background": "light"
     },
     "output_type": "display_data"
    }
   ],
   "source": [
    "# discuss on age atrribute\n",
    "# group age by range\n",
    "filtered_data['age_range'] = pd.cut(filtered_data['age'],[20, 35, 50, 65, 90],labels=['20-35','35-50','50-65','65-90'])\n",
    "ax = sns.countplot(x='age_range', hue='Sentiment', data=filtered_data, \\\n",
    "              order=['20-35','35-50','50-65','65-90'], hue_order=['NEGATIVE','NEUTRAL','POSITIVE'])\n",
    "add_percent(4,ax)\n",
    "plt.title('Sentiment Distribution among Different Age Groups')"
   ]
  },
  {
   "cell_type": "markdown",
   "metadata": {},
   "source": [
    "It seems that the older the people get, the more inclined they are to climate denialism."
   ]
  },
  {
   "cell_type": "markdown",
   "metadata": {},
   "source": [
    "### We are not content with the superficial analysis such as the above because we are aware of the dangers of observational studies--the presence of **confounders**, so in the following analysis we try to balance the groups via matching and get a more solid causality relationship."
   ]
  },
  {
   "cell_type": "markdown",
   "metadata": {},
   "source": [
    "We use the method: **Inverse Propensity Score Weight (IPSW)**. IPTW is similar to propensity score model (PSM) and it provides an estimation of the **Average Treatment Effect (ATE)** to quantify the difference between the treatment and control groups."
   ]
  },
  {
   "cell_type": "markdown",
   "metadata": {},
   "source": [
    "### 1. the causal effect of the occupation"
   ]
  },
  {
   "cell_type": "markdown",
   "metadata": {},
   "source": [
    "The **covariates pool** includes *party,nationality,gender, ethnic group, occupation, religion, age* and *highest degree*. Due to the large amount of missing values, we exclude *party (63.7% missing)*, *ethnic group (91.2% missing)*, *religion (80.3% missing)*, *highest egree (91.4% missing)*. Therefore, the **chosen covariates** are: *nationality, gender* and *age*"
   ]
  },
  {
   "cell_type": "code",
   "execution_count": null,
   "metadata": {},
   "outputs": [],
   "source": [
    "demographic_data = data[data['Seniment'] == 'NEGATIVE']"
   ]
  },
  {
   "cell_type": "code",
   "execution_count": 248,
   "metadata": {},
   "outputs": [],
   "source": [
    "demographic_data_dropna = demographic_data.dropna(subset=['occupation','gender','nationality','age'],how='any').copy()"
   ]
  },
  {
   "cell_type": "code",
   "execution_count": 249,
   "metadata": {},
   "outputs": [],
   "source": [
    "demographic_data_new = demographic_data_dropna[['occupation','gender','nationality','age','avg_score']].copy()"
   ]
  },
  {
   "cell_type": "code",
   "execution_count": 250,
   "metadata": {},
   "outputs": [],
   "source": [
    "demographic_data_dummy = pd.get_dummies(demographic_data_new)"
   ]
  },
  {
   "cell_type": "code",
   "execution_count": 251,
   "metadata": {},
   "outputs": [
    {
     "data": {
      "text/plain": [
       "(29687, 1266)"
      ]
     },
     "execution_count": 251,
     "metadata": {},
     "output_type": "execute_result"
    }
   ],
   "source": [
    "demographic_data_dummy.shape"
   ]
  },
  {
   "cell_type": "code",
   "execution_count": 184,
   "metadata": {},
   "outputs": [],
   "source": [
    "variable_pool = demographic_data_dummy.columns.tolist()\n",
    "variable_pool.remove('avg_score')\n",
    "covariate = [x for x in variable_pool if not x.startswith('occupation')]"
   ]
  },
  {
   "cell_type": "markdown",
   "metadata": {},
   "source": [
    "we analyse only the top 5 occupations to avoid the **imbalance** between the control and treatment groups"
   ]
  },
  {
   "cell_type": "code",
   "execution_count": 185,
   "metadata": {},
   "outputs": [],
   "source": [
    "top_5_occupations = demographic_data_dropna.occupation.value_counts().index[:5].tolist()"
   ]
  },
  {
   "cell_type": "code",
   "execution_count": 222,
   "metadata": {},
   "outputs": [
    {
     "name": "stdout",
     "output_type": "stream",
     "text": [
      "politician\n",
      "0.11335974882101876\n",
      "association football player\n",
      "-0.015098378619321716\n",
      "actor\n",
      "0.009717960609134876\n",
      "journalist\n",
      "-0.026214259390041465\n",
      "writer\n",
      "-0.038717305534524696\n"
     ]
    }
   ],
   "source": [
    "from causalinference import *\n",
    "ipse_occupation_list=[]\n",
    "for x in top_5_occupations:\n",
    "    print(x)\n",
    "    cm = CausalModel(\n",
    "        Y=demographic_data_dummy.avg_score.values, \n",
    "        D=demographic_data_dummy['occupation_'+x].values, \n",
    "        X=demographic_data_dummy[covariate].values)\n",
    "    cm.est_propensity()\n",
    "    propensity = cm.propensity[\"fitted\"]\n",
    "    df = demographic_data_dummy\n",
    "    df[\"ips\"] = np.where(\n",
    "        df['occupation_'+x] == 1, \n",
    "        1 / propensity,\n",
    "        1 / (1 - propensity))\n",
    "    df[\"ipsw\"] = df.avg_score * df.ips\n",
    "    ipse = (\n",
    "      df[df['occupation_'+x] == 1][\"ipsw\"].sum()\n",
    "    - df[df['occupation_'+x] == 0][\"ipsw\"].sum()\n",
    ") / df.shape[0]\n",
    "    ipse_occupation_list.append(ipse)\n",
    "    print(ipse)"
   ]
  },
  {
   "cell_type": "markdown",
   "metadata": {},
   "source": [
    "*Discuss*: From the result, the score difference between the politician and non-politician is largest, which reaches 0.113. This means being a politician tends to have more positive attitude towards the climate change issues, while being a writer has a more negative effect."
   ]
  },
  {
   "cell_type": "markdown",
   "metadata": {},
   "source": [
    "### 2. the causal effect of the nationality"
   ]
  },
  {
   "cell_type": "markdown",
   "metadata": {},
   "source": [
    "Apply the same method, we analyse the causal effect of the first 10 nationalities."
   ]
  },
  {
   "cell_type": "code",
   "execution_count": 191,
   "metadata": {},
   "outputs": [],
   "source": [
    "top_10_nationality = demographic_data_dropna.nationality.value_counts().index[:10].tolist()"
   ]
  },
  {
   "cell_type": "code",
   "execution_count": 192,
   "metadata": {},
   "outputs": [
    {
     "data": {
      "text/plain": [
       "['United States of America',\n",
       " 'United Kingdom',\n",
       " 'Australia',\n",
       " 'Canada',\n",
       " 'Germany',\n",
       " 'India',\n",
       " 'New Zealand',\n",
       " 'France',\n",
       " 'Ireland',\n",
       " 'South Africa']"
      ]
     },
     "execution_count": 192,
     "metadata": {},
     "output_type": "execute_result"
    }
   ],
   "source": [
    "top_10_nationality"
   ]
  },
  {
   "cell_type": "code",
   "execution_count": 228,
   "metadata": {},
   "outputs": [
    {
     "name": "stdout",
     "output_type": "stream",
     "text": [
      "United States of America\n",
      "0.0002088484855778383\n",
      "United Kingdom\n",
      "0.004248348467226155\n",
      "Australia\n",
      "0.012644026694551095\n",
      "Canada\n",
      "0.02378461711012297\n",
      "Germany\n",
      "0.026921731083691464\n",
      "India\n",
      "-0.0176584561758974\n",
      "New Zealand\n",
      "0.023423053525463807\n",
      "France\n",
      "-0.03712422704923801\n",
      "Ireland\n",
      "-0.00560190750329531\n",
      "South Africa\n",
      "-0.013051471928679587\n"
     ]
    }
   ],
   "source": [
    "ipse_nationality_list = []\n",
    "for x in top_10_nationality:\n",
    "    \n",
    "    print(x)\n",
    "    cm = CausalModel(\n",
    "        Y=demographic_data_dummy.avg_score.values, \n",
    "        D=demographic_data_dummy['nationality_'+x].values, \n",
    "        X=demographic_data_dummy[covariate].values)\n",
    "    cm.est_propensity()\n",
    "    propensity = cm.propensity[\"fitted\"]\n",
    "    df = demographic_data_dummy\n",
    "    df[\"ips\"] = np.where(\n",
    "        df['nationality_'+x] == 1, \n",
    "        1 / propensity,\n",
    "        1 / (1 - propensity))\n",
    "    df[\"ipsw\"] = df.avg_score * df.ips\n",
    "    ipse = (\n",
    "      df[df['nationality_'+x] == 1][\"ipsw\"].sum()\n",
    "    - df[df['nationality_'+x] == 0][\"ipsw\"].sum()\n",
    ") / df.shape[0]\n",
    "    ipse_nationality_list.append(ipse)\n",
    "    print(ipse)"
   ]
  },
  {
   "cell_type": "code",
   "execution_count": 229,
   "metadata": {},
   "outputs": [
    {
     "data": {
      "text/plain": [
       "[0.0002088484855778383,\n",
       " 0.004248348467226155,\n",
       " 0.012644026694551095,\n",
       " 0.02378461711012297,\n",
       " 0.026921731083691464,\n",
       " -0.0176584561758974,\n",
       " 0.023423053525463807,\n",
       " -0.03712422704923801,\n",
       " -0.00560190750329531,\n",
       " -0.013051471928679587]"
      ]
     },
     "execution_count": 229,
     "metadata": {},
     "output_type": "execute_result"
    }
   ],
   "source": [
    "ipse_nationality_list"
   ]
  },
  {
   "cell_type": "markdown",
   "metadata": {},
   "source": [
    "From the result, people from France tend to have more negative attitude, while being German will improve the sentiment score most. "
   ]
  },
  {
   "cell_type": "markdown",
   "metadata": {},
   "source": [
    "### 3. The casual effect of the age"
   ]
  },
  {
   "cell_type": "markdown",
   "metadata": {},
   "source": [
    "We define the people from 18-60 as adults, above 60 as elderly."
   ]
  },
  {
   "cell_type": "code",
   "execution_count": 239,
   "metadata": {},
   "outputs": [],
   "source": [
    "def judge_age(x):\n",
    "    if x<=18:\n",
    "        return 'teen'\n",
    "    if x>18 and x<=60:\n",
    "        return 'adult'\n",
    "    if x>60:\n",
    "        return 'elderly'\n",
    "demographic_data_new.age = demographic_data_new.age.apply(judge_age)"
   ]
  },
  {
   "cell_type": "code",
   "execution_count": 240,
   "metadata": {},
   "outputs": [
    {
     "data": {
      "text/plain": [
       "adult      18655\n",
       "elderly    10438\n",
       "teen         594\n",
       "Name: age, dtype: int64"
      ]
     },
     "execution_count": 240,
     "metadata": {},
     "output_type": "execute_result"
    }
   ],
   "source": [
    "demographic_data_new.age.value_counts()"
   ]
  },
  {
   "cell_type": "code",
   "execution_count": 241,
   "metadata": {},
   "outputs": [],
   "source": [
    "demographic_data_dummy = pd.get_dummies(demographic_data_new)"
   ]
  },
  {
   "cell_type": "code",
   "execution_count": 242,
   "metadata": {},
   "outputs": [
    {
     "name": "stdout",
     "output_type": "stream",
     "text": [
      "adult\n",
      "0.008763764149412705\n",
      "elderly\n",
      "-0.009645790890902275\n"
     ]
    }
   ],
   "source": [
    "ipse_age_list = []\n",
    "for x in ['adult','elderly']:\n",
    "    print(x)\n",
    "    \n",
    "    cm = CausalModel(\n",
    "        Y=demographic_data_dummy.avg_score.values, \n",
    "        D=demographic_data_dummy['age_'+x].values, \n",
    "        X=demographic_data_dummy[covariate].values)\n",
    "    cm.est_propensity()\n",
    "    propensity = cm.propensity[\"fitted\"]\n",
    "    df = demographic_data_dummy\n",
    "    df[\"ips\"] = np.where(\n",
    "        df['age_'+x] == 1, \n",
    "        1 / propensity,\n",
    "        1 / (1 - propensity))\n",
    "    df[\"ipsw\"] = df.avg_score * df.ips\n",
    "    ipse = (\n",
    "      df[df['age_'+x] == 1][\"ipsw\"].sum()\n",
    "    - df[df['age_'+x] == 0][\"ipsw\"].sum()\n",
    ") / df.shape[0]\n",
    "    ipse_age_list.append(ipse)\n",
    "    print(ipse)"
   ]
  },
  {
   "cell_type": "markdown",
   "metadata": {},
   "source": [
    "Being an elderly may cause the decrease in the sentiment score, elder people are more inclined to climate denialism"
   ]
  },
  {
   "cell_type": "markdown",
   "metadata": {},
   "source": [
    "### 4. The casual effect of gender"
   ]
  },
  {
   "cell_type": "code",
   "execution_count": 206,
   "metadata": {},
   "outputs": [],
   "source": [
    "gender = demographic_data_dropna.gender.value_counts().index[:5].tolist()"
   ]
  },
  {
   "cell_type": "code",
   "execution_count": 207,
   "metadata": {},
   "outputs": [
    {
     "data": {
      "text/plain": [
       "['male', 'female', 'transgender female', 'non-binary', 'genderfluid']"
      ]
     },
     "execution_count": 207,
     "metadata": {},
     "output_type": "execute_result"
    }
   ],
   "source": [
    "gender"
   ]
  },
  {
   "cell_type": "code",
   "execution_count": 252,
   "metadata": {},
   "outputs": [
    {
     "name": "stdout",
     "output_type": "stream",
     "text": [
      "male\n",
      "47.430420928681045\n",
      "female\n",
      "-21.606692810556943\n",
      "transgender female\n",
      "0.06320433284380815\n",
      "non-binary\n",
      "-0.19868491446024814\n",
      "genderfluid\n",
      "0.34027406400785354\n"
     ]
    }
   ],
   "source": [
    "ipse_gender_list = []\n",
    "for x in gender:\n",
    "    print(x)\n",
    "    \n",
    "    cm = CausalModel(\n",
    "        Y=demographic_data_dummy.avg_score.values, \n",
    "        D=demographic_data_dummy['gender_'+x].values, \n",
    "        X=demographic_data_dummy[covariate].values)\n",
    "    cm.est_propensity()\n",
    "    propensity = cm.propensity[\"fitted\"]\n",
    "    df = demographic_data_dummy\n",
    "    df[\"ips\"] = np.where(\n",
    "        df['gender_'+x] == 1, \n",
    "        1 / propensity,\n",
    "        1 / (1 - propensity))\n",
    "    df[\"ipsw\"] = df.avg_score * df.ips\n",
    "    ipse = (\n",
    "      df[df['gender_'+x] == 1][\"ipsw\"].sum()\n",
    "    - df[df['gender_'+x] == 0][\"ipsw\"].sum()\n",
    ") / df.shape[0]\n",
    "    ipse_gender_list.append(ipse)\n",
    "    print(ipse)"
   ]
  },
  {
   "cell_type": "markdown",
   "metadata": {},
   "source": [
    "We can see that female may greatly cause the decrease in the sentiment score, which means that women speakers appear to be more negative to this issue. "
   ]
  },
  {
   "cell_type": "code",
   "execution_count": 278,
   "metadata": {},
   "outputs": [
    {
     "data": {
      "image/png": "[encoded data removed]",
      "text/plain": [
       "<Figure size 1152x1152 with 4 Axes>"
      ]
     },
     "metadata": {
      "needs_background": "light"
     },
     "output_type": "display_data"
    }
   ],
   "source": [
    "# draw a graph:\n",
    "import brewer2mpl\n",
    "bmap = brewer2mpl.get_map('Dark2', 'qualitative', 8)\n",
    "colors = bmap.mpl_colors\n",
    "plt.figure(figsize=(16,16))\n",
    "plt.subplot(2,2,1)\n",
    "plt.bar(gender,ipse_gender_list,color=colors)\n",
    "plt.xticks(rotation=10)\n",
    "plt.ylabel('Inverse propensity score weight')\n",
    "plt.title('gender')\n",
    "plt.subplot(2,2,2)\n",
    "plt.bar(['adult','elderly'],ipse_age_list,color=colors)\n",
    "plt.ylabel('Inverse propensity score weight')\n",
    "plt.title('age')\n",
    "plt.subplot(2,2,3)\n",
    "plt.bar(top_10_nationality,ipse_nationality_list,color=colors)\n",
    "plt.xticks(rotation=25)\n",
    "plt.ylabel('Inverse propensity score weight')\n",
    "plt.title('nationality')\n",
    "plt.subplot(2,2,4)\n",
    "plt.bar(top_5_occupations,ipse_occupation_list,color=colors)\n",
    "plt.ylabel('Inverse propensity score weight')\n",
    "plt.title('occupation')\n",
    "plt.xticks(rotation=20)\n",
    "plt.show()"
   ]
  },
  {
   "cell_type": "markdown",
   "metadata": {},
   "source": [
    "## Limitations:\n",
    "There are certain limitations of our study\n",
    "1. Due to the concern of ruling out too many data, we keep all the quotations that are related to climate change, of which about 50% are from an american speaker. In other words, speakers from the U.K. (15%), Australia (6%) and Canada (6%) are also included, which might have resulted in bias when calculating political attention rate and political support rate.\n",
    "2. When performing sentiment analysis, we completely depend on the popular Vader toolkit. Since this tool is specifically attuned to sentiments expressed in social media, it might result in some bias when applied to our dataset. Moreover, the judgment of \"negative\" and \"positive\" attitudes towards climate change is even more tricky, for example, given two similar sentences: \"Climate change is really bad\" and \"This policy regarding climate change is really bad\", although they are all labeled as negative by Vader, the first sentence can mean that we should take actions to mitigate climate change, which, under our definition, should be labeled as positive. Last but not least, as we mentioned before, under the topic of climate change, few of the quotations should be \"neutral\" or only describe some facts. Either they implies a concern/support that human should take actions to mitigate climate change, or they are not in favor of it. Therefore, in theory, the appropriate threshold of \"neutral\" is very hard to define, at least it should be a narrower range than (-0.05,0.05).\n",
    "3. In the given dataset, there's a possibility of duplicate names when linking the speaker with their qids. To find out which one is the real speaker, we build upa filter based on their born year (suppose that the speaker should age between 20 and 90). This might not be effective enough and can result in some faults, for example, we found out that the youngest speaker in our dataset is -5, which is clearly due to a wrong linked figure who has the same name. However, cases of duplicate names are not dominant, which will not significantly affect our results.\n",
    "4. In Task 2, the superficial conclusion of higher negative rate among certain people (Jewish, journalists, less educated, elder) can be caused by unbalanced distribution of data. Moreover, this doesn't mean that these people are more indifferent to climate change, since there can be many confounders.\n",
    "5. In the IPTW-matching analysis, we filter out some groups due to their small number, since the number treated/untreated data samples should be larger than the number of covariates. By doing this, we probably filter out some \"minorities\" which might triger interesting findings."
   ]
  }
 ],
 "metadata": {
  "interpreter": {
   "hash": "f59d0250147b9d7a921c814c3fe80c17ba7c02dca5f54053d0d6579d11b5ae52"
  },
  "kernelspec": {
   "display_name": "Python 3",
   "language": "python",
   "name": "python3"
  },
  "language_info": {
   "codemirror_mode": {
    "name": "ipython",
    "version": 3
   },
   "file_extension": ".py",
   "mimetype": "text/x-python",
   "name": "python",
   "nbconvert_exporter": "python",
   "pygments_lexer": "ipython3",
   "version": "3.7.3"
  }
 },
 "nbformat": 4,
 "nbformat_minor": 2
}
